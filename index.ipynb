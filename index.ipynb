{
 "cells": [
  {
   "cell_type": "markdown",
   "metadata": {},
   "source": [
    "<h1 style=\"text-align:center;\">CREATING A BOOK RECOMMENDATION SYSTEM</h1>\n"
   ]
  },
  {
   "cell_type": "markdown",
   "metadata": {},
   "source": [
    "<h2 style=\"text-align:center;\">BUSINESS UNDERSTANDING  </h2>"
   ]
  },
  {
   "cell_type": "markdown",
   "metadata": {},
   "source": [
    "<h3 style=\"text-align:left;\">Project Overview  </h3>"
   ]
  },
  {
   "cell_type": "markdown",
   "metadata": {},
   "source": [
    "Recommendation systems are powerful tools that use machine learning algorithms to provide suggestions that are useful to users based on behaviour or habit patterns or user data. \n",
    "A Book Recommendation System is a machine learning-based solution designed to suggest books to users based on their preferences and behavior. Recommendation systems enhance user engagement, drive sales, and improve customer satisfaction by providing personalized suggestions. This project aims to utlize advance machine learning tools to develop a book recommendation system that is tailored to meet personalized customers needs and preferences therefore helping customers with the challenge of locating or choosing which books to read considering the large electronic book presence. The data used is from Kaggle  [Kaggle](https://www.kaggle.com/datasets/somnambwl/bookcrossing-dataset/data)\n",
    "\n",
    "There are two primary approaches to recommendation systems:\n",
    "\n",
    "1. Collaborative Filtering – Uses user behavior and preferences to make recommendations.\n",
    "\n",
    "2. Content-Based Filtering – Suggests books based on the features and attributes of previously liked books"
   ]
  },
  {
   "cell_type": "markdown",
   "metadata": {},
   "source": [
    "<h3 style=\"text-align:left;\">Business Problem</h3>\n",
    "\n",
    "As earlier mentioned, with the rise of online and e-commerce services, customers face challenges in finding books that match their preferences. The goal is to develop a Book Recommendation System that offers personalized book suggestions, improving user experience and engagement."
   ]
  },
  {
   "cell_type": "markdown",
   "metadata": {},
   "source": [
    "<h3 style=\"text-align:left;\">Project Objectives</h3>\n",
    "\n",
    "Develop a recommendation system that provides tailored book suggestions.\n",
    "\n",
    "Increase book sales by recommending books users are most likely to purchase.\n",
    "\n",
    "Enhance customer retention by offering relevant recommendations.\n",
    "\n",
    "Improve user engagement by making book discovery easier."
   ]
  },
  {
   "cell_type": "markdown",
   "metadata": {},
   "source": [
    "<h3 style=\"text-align:left;\">Key Analysis Questions:</h3>\n",
    "\n",
    "Which authors consistently receive high ratings?\n",
    "\n",
    "Does the year of publication influence book ratings?\n",
    "\n",
    "How accurate are the collaborative filtering recommendations?\n",
    "\n",
    "How does class imbalance in ratings affect recommendation performance?"
   ]
  },
  {
   "cell_type": "markdown",
   "metadata": {},
   "source": [
    "<h3 style=\"text-align:left;\">Key Analysis Questions:</h3>\n",
    "\n",
    "Which authors consistently receive high ratings?\n",
    "\n",
    "Does the year of publication influence book ratings?\n",
    "\n",
    "How accurate are the collaborative filtering recommendations?\n",
    "\n",
    "How does class imbalance in ratings affect recommendation performance?"
   ]
  },
  {
   "cell_type": "markdown",
   "metadata": {},
   "source": [
    "<h3 style=\"text-align:left;\">Data Source</h3>\n",
    "\n",
    "The dataset is obtained from Kaggle and consists of three files:\n",
    "\n",
    "Books.csv – Includes details such as ISBN, title, author, year, and publisher.\n",
    "\n",
    "Ratings.csv – Contains user ratings (0 to 10) linked to books via ISBN and user ID.\n",
    "\n",
    "Users.csv – Provides user demographics, including age."
   ]
  },
  {
   "cell_type": "markdown",
   "metadata": {},
   "source": [
    "<h3 style=\"text-align:left;\">Data Source</h3>\n",
    "\n",
    "The dataset is obtained from Kaggle and consists of three files:\n",
    "\n",
    "Books.csv – Includes details such as ISBN, title, author, year, and publisher.\n",
    "\n",
    "Ratings.csv – Contains user ratings (0 to 10) linked to books via ISBN and user ID.\n",
    "\n",
    "Users.csv – Provides user demographics, including age."
   ]
  },
  {
   "cell_type": "markdown",
   "metadata": {},
   "source": [
    "<h3 style=\"text-align:left;\">Stakeholders</h3>\n",
    "\n",
    "Customers – Expect personalized and accurate book recommendations.\n",
    "\n",
    "Marketing Team – Uses insights for targeted promotions and advertising.\n",
    "\n",
    "Data Scientists – Focus on optimizing the accuracy and scalability of the model.\n",
    "\n",
    "Book Authors – Gain insights into audience preferences and book popularity.\n",
    "\n",
    "Executives (CEO) – Assess the business impact of the recommendation system on revenue and customer retention."
   ]
  },
  {
   "cell_type": "markdown",
   "metadata": {},
   "source": [
    "<h3 style=\"text-align:left;\">Methodology</h3>\n",
    "\n",
    "The project follows the CRISP-DM framework:\n",
    "\n",
    "Business Understanding – Define project goals and objectives.\n",
    "\n",
    "Data Understanding – Explore and assess data quality.\n",
    "\n",
    "Data Preparation – Clean and preprocess data.\n",
    "\n",
    "Modeling – Implement recommendation models.\n",
    "\n",
    "Evaluation – Assess model performance using relevant metrics."
   ]
  },
  {
   "cell_type": "markdown",
   "metadata": {},
   "source": [
    "<h3 style=\"text-align:left;\">Data Understanding</h3>\n",
    "\n",
    "A thorough exploration of the dataset ensures high-quality inputs for model training.\n",
    "\n",
    "<h4 style=\"text-align:left;\">A. Dataset Overview</h4>\n",
    "\n",
    "Books Dataset – Provides ISBN, title, author, publisher, and publication year.\n",
    "\n",
    "Users Dataset – Contains user demographics, including age.\n",
    "\n",
    "Ratings Dataset – Includes user ratings for books (0-10 scale).\n",
    "\n",
    "<h4 style=\"text-align:left;\">B. Data Merging</h4>\n",
    "Merged Ratings.csv with Users.csv using User-ID.\n",
    "\n",
    "Further merged with Books.csv using ISBN to form a comprehensive dataset."
   ]
  },
  {
   "cell_type": "markdown",
   "metadata": {},
   "source": [
    "<h4 style=\"text-align:left;\">C. Key Insights</h4>\n",
    "\n",
    "Outliers – Unreasonable age values need capping or removal.\n",
    "\n",
    "Missing Values –\n",
    "\n",
    "Age column has ~27% missing values; will be imputed using the median.\n",
    "\n",
    "Book-Author and Publisher have negligible missing values; will be dropped.\n",
    "\n",
    "Image URLs will be dropped as they are irrelevant to analysis."
   ]
  },
  {
   "cell_type": "markdown",
   "metadata": {},
   "source": [
    "<h4 style=\"text-align:left;\">D. Data Analysis</h4>\n",
    "\n",
    "i) Univariate Analysis\n",
    "\n",
    "Book Ratings – Understand rating distribution and trends.\n",
    "\n",
    "User Ages – Identify major reading demographics.\n",
    "\n",
    "ii) Bivariate Analysis\n",
    "\n",
    "Age vs. Ratings – Understand rating preferences across age groups.\n",
    "\n",
    "Authors vs. Ratings – Identify consistently high-rated authors.\n",
    "\n",
    "Publisher vs. Ratings – Analyze publisher influence on book ratings.\n",
    "\n",
    "Publication Year vs. Ratings – Determine if newer books receive better ratings.\n"
   ]
  },
  {
   "cell_type": "markdown",
   "metadata": {},
   "source": [
    "<h3 style=\"text-align:left;\">Modeling</h3>\n",
    "\n",
    "We will develop and evaluate two types of recommendation models:\n",
    "\n",
    "1. Collaborative Filtering\n",
    "\n",
    "User-User Filtering – Recommends books based on user similarity.\n",
    "\n",
    "Item-Item Filtering – Suggests books similar to previously liked books.\n",
    "\n",
    "Techniques Used: SVD, Cosine Similarity.\n",
    "\n",
    "Challenge:\n",
    "\n",
    "Struggles with new users or books lacking sufficient interaction history (cold start problem).\n",
    "\n",
    "\n"
   ]
  },
  {
   "cell_type": "markdown",
   "metadata": {},
   "source": [
    "<h3 style=\"text-align:left;\">Modeling Evaluation</h3>\n",
    "\n",
    "For evaluation, we use:\n",
    "\n",
    "Precision – Measures how many recommended books are relevant.\n",
    "\n",
    "Recall – Ensures a diverse and comprehensive recommendation list.\n",
    "\n",
    "F1-Score – Balances precision and recall.\n",
    "\n",
    "RMSE & MAE – Measures prediction accuracy.\n",
    "\n",
    "\n",
    "\n"
   ]
  },
  {
   "cell_type": "markdown",
   "metadata": {},
   "source": [
    "<h3 style=\"text-align:left;\">Expected Results</h3>\n",
    "\n",
    "The primary focus is on precision, ensuring highly relevant recommendations that improve user satisfaction. The goal is to achieve a precision score of at least 75%, ensuring accurate and personalized book suggestions."
   ]
  },
  {
   "cell_type": "markdown",
   "metadata": {},
   "source": [
    "<h2 style=\"text-align:center;\"> DATA PREPARATION </h2>"
   ]
  },
  {
   "cell_type": "markdown",
   "metadata": {},
   "source": [
    "For this section of the project, data is prepared for analysis by loading our data for inspection, visualizing it , cleaning it and performing feature engineering to better improve the dataset for analysis. All important libraries releveant to our project are also imported at this point."
   ]
  },
  {
   "cell_type": "markdown",
   "metadata": {},
   "source": [
    "Started by importing relevant libraries"
   ]
  },
  {
   "cell_type": "code",
   "execution_count": 14,
   "metadata": {},
   "outputs": [],
   "source": [
    "#Import relevant libraries\n",
    "import pandas as pd\n",
    "import numpy as np\n",
    "import matplotlib.pyplot as plt\n",
    "import seaborn as sns\n",
    "from surprise import Dataset, Reader, SVD\n",
    "from surprise.model_selection import train_test_split\n",
    "from surprise import accuracy\n",
    "from surprise.model_selection import GridSearchCV\n",
    "from sklearn.metrics import precision_score, recall_score, f1_score, accuracy_score\n",
    "from scipy.sparse import csr_matrix\n",
    "from sklearn.metrics.pairwise import cosine_similarity\n",
    "\n"
   ]
  },
  {
   "cell_type": "markdown",
   "metadata": {},
   "source": [
    "We then load the datasets"
   ]
  },
  {
   "cell_type": "code",
   "execution_count": 28,
   "metadata": {},
   "outputs": [
    {
     "data": {
      "text/html": [
       "<div>\n",
       "<style scoped>\n",
       "    .dataframe tbody tr th:only-of-type {\n",
       "        vertical-align: middle;\n",
       "    }\n",
       "\n",
       "    .dataframe tbody tr th {\n",
       "        vertical-align: top;\n",
       "    }\n",
       "\n",
       "    .dataframe thead th {\n",
       "        text-align: right;\n",
       "    }\n",
       "</style>\n",
       "<table border=\"1\" class=\"dataframe\">\n",
       "  <thead>\n",
       "    <tr style=\"text-align: right;\">\n",
       "      <th></th>\n",
       "      <th>ISBN</th>\n",
       "      <th>Title</th>\n",
       "      <th>Author</th>\n",
       "      <th>Year</th>\n",
       "      <th>Publisher</th>\n",
       "    </tr>\n",
       "  </thead>\n",
       "  <tbody>\n",
       "    <tr>\n",
       "      <th>0</th>\n",
       "      <td>0195153448</td>\n",
       "      <td>Classical Mythology</td>\n",
       "      <td>Mark P. O. Morford</td>\n",
       "      <td>2002</td>\n",
       "      <td>Oxford University Press</td>\n",
       "    </tr>\n",
       "    <tr>\n",
       "      <th>1</th>\n",
       "      <td>0002005018</td>\n",
       "      <td>Clara Callan</td>\n",
       "      <td>Richard Bruce Wright</td>\n",
       "      <td>2001</td>\n",
       "      <td>HarperFlamingo Canada</td>\n",
       "    </tr>\n",
       "    <tr>\n",
       "      <th>2</th>\n",
       "      <td>0060973129</td>\n",
       "      <td>Decision in Normandy</td>\n",
       "      <td>Carlo D'Este</td>\n",
       "      <td>1991</td>\n",
       "      <td>HarperPerennial</td>\n",
       "    </tr>\n",
       "    <tr>\n",
       "      <th>3</th>\n",
       "      <td>0374157065</td>\n",
       "      <td>Flu: The Story of the Great Influenza Pandemic...</td>\n",
       "      <td>Gina Bari Kolata</td>\n",
       "      <td>1999</td>\n",
       "      <td>Farrar Straus Giroux</td>\n",
       "    </tr>\n",
       "    <tr>\n",
       "      <th>4</th>\n",
       "      <td>0393045218</td>\n",
       "      <td>The Mummies of Urumchi</td>\n",
       "      <td>E. J. W. Barber</td>\n",
       "      <td>1999</td>\n",
       "      <td>W. W. Norton &amp; Company</td>\n",
       "    </tr>\n",
       "  </tbody>\n",
       "</table>\n",
       "</div>"
      ],
      "text/plain": [
       "         ISBN                                              Title  \\\n",
       "0  0195153448                                Classical Mythology   \n",
       "1  0002005018                                       Clara Callan   \n",
       "2  0060973129                               Decision in Normandy   \n",
       "3  0374157065  Flu: The Story of the Great Influenza Pandemic...   \n",
       "4  0393045218                             The Mummies of Urumchi   \n",
       "\n",
       "                 Author  Year                Publisher  \n",
       "0    Mark P. O. Morford  2002  Oxford University Press  \n",
       "1  Richard Bruce Wright  2001    HarperFlamingo Canada  \n",
       "2          Carlo D'Este  1991          HarperPerennial  \n",
       "3      Gina Bari Kolata  1999     Farrar Straus Giroux  \n",
       "4       E. J. W. Barber  1999   W. W. Norton & Company  "
      ]
     },
     "execution_count": 28,
     "metadata": {},
     "output_type": "execute_result"
    }
   ],
   "source": [
    "#Load 'books.csv' dataset\n",
    "Books = pd.read_csv('Books.csv',delimiter=\";\",low_memory= False)\n",
    "Books.head()"
   ]
  },
  {
   "cell_type": "code",
   "execution_count": 29,
   "metadata": {},
   "outputs": [
    {
     "data": {
      "text/html": [
       "<div>\n",
       "<style scoped>\n",
       "    .dataframe tbody tr th:only-of-type {\n",
       "        vertical-align: middle;\n",
       "    }\n",
       "\n",
       "    .dataframe tbody tr th {\n",
       "        vertical-align: top;\n",
       "    }\n",
       "\n",
       "    .dataframe thead th {\n",
       "        text-align: right;\n",
       "    }\n",
       "</style>\n",
       "<table border=\"1\" class=\"dataframe\">\n",
       "  <thead>\n",
       "    <tr style=\"text-align: right;\">\n",
       "      <th></th>\n",
       "      <th>User-ID</th>\n",
       "      <th>ISBN</th>\n",
       "      <th>Rating</th>\n",
       "    </tr>\n",
       "  </thead>\n",
       "  <tbody>\n",
       "    <tr>\n",
       "      <th>0</th>\n",
       "      <td>276725</td>\n",
       "      <td>034545104X</td>\n",
       "      <td>0</td>\n",
       "    </tr>\n",
       "    <tr>\n",
       "      <th>1</th>\n",
       "      <td>276726</td>\n",
       "      <td>0155061224</td>\n",
       "      <td>5</td>\n",
       "    </tr>\n",
       "    <tr>\n",
       "      <th>2</th>\n",
       "      <td>276727</td>\n",
       "      <td>0446520802</td>\n",
       "      <td>0</td>\n",
       "    </tr>\n",
       "    <tr>\n",
       "      <th>3</th>\n",
       "      <td>276729</td>\n",
       "      <td>052165615X</td>\n",
       "      <td>3</td>\n",
       "    </tr>\n",
       "    <tr>\n",
       "      <th>4</th>\n",
       "      <td>276729</td>\n",
       "      <td>0521795028</td>\n",
       "      <td>6</td>\n",
       "    </tr>\n",
       "  </tbody>\n",
       "</table>\n",
       "</div>"
      ],
      "text/plain": [
       "   User-ID        ISBN  Rating\n",
       "0   276725  034545104X       0\n",
       "1   276726  0155061224       5\n",
       "2   276727  0446520802       0\n",
       "3   276729  052165615X       3\n",
       "4   276729  0521795028       6"
      ]
     },
     "execution_count": 29,
     "metadata": {},
     "output_type": "execute_result"
    }
   ],
   "source": [
    "#Load 'ratings.csv' dataset\n",
    "Ratings = pd.read_csv('Ratings.csv',delimiter=\";\",low_memory=False)\n",
    "Ratings.head()\n",
    "\n"
   ]
  },
  {
   "cell_type": "code",
   "execution_count": 33,
   "metadata": {},
   "outputs": [
    {
     "data": {
      "text/html": [
       "<div>\n",
       "<style scoped>\n",
       "    .dataframe tbody tr th:only-of-type {\n",
       "        vertical-align: middle;\n",
       "    }\n",
       "\n",
       "    .dataframe tbody tr th {\n",
       "        vertical-align: top;\n",
       "    }\n",
       "\n",
       "    .dataframe thead th {\n",
       "        text-align: right;\n",
       "    }\n",
       "</style>\n",
       "<table border=\"1\" class=\"dataframe\">\n",
       "  <thead>\n",
       "    <tr style=\"text-align: right;\">\n",
       "      <th></th>\n",
       "      <th>User-ID</th>\n",
       "      <th>Age</th>\n",
       "    </tr>\n",
       "  </thead>\n",
       "  <tbody>\n",
       "    <tr>\n",
       "      <th>0</th>\n",
       "      <td>1</td>\n",
       "      <td>NaN</td>\n",
       "    </tr>\n",
       "    <tr>\n",
       "      <th>1</th>\n",
       "      <td>2</td>\n",
       "      <td>18</td>\n",
       "    </tr>\n",
       "    <tr>\n",
       "      <th>2</th>\n",
       "      <td>3</td>\n",
       "      <td>NaN</td>\n",
       "    </tr>\n",
       "    <tr>\n",
       "      <th>3</th>\n",
       "      <td>4</td>\n",
       "      <td>17</td>\n",
       "    </tr>\n",
       "    <tr>\n",
       "      <th>4</th>\n",
       "      <td>5</td>\n",
       "      <td>NaN</td>\n",
       "    </tr>\n",
       "  </tbody>\n",
       "</table>\n",
       "</div>"
      ],
      "text/plain": [
       "  User-ID  Age\n",
       "0       1  NaN\n",
       "1       2   18\n",
       "2       3  NaN\n",
       "3       4   17\n",
       "4       5  NaN"
      ]
     },
     "execution_count": 33,
     "metadata": {},
     "output_type": "execute_result"
    }
   ],
   "source": [
    "Users = pd.read_csv('Users.csv',delimiter=\";\",low_memory=False)\n",
    "Users.head()"
   ]
  }
 ],
 "metadata": {
  "kernelspec": {
   "display_name": "learn-env",
   "language": "python",
   "name": "python3"
  },
  "language_info": {
   "codemirror_mode": {
    "name": "ipython",
    "version": 3
   },
   "file_extension": ".py",
   "mimetype": "text/x-python",
   "name": "python",
   "nbconvert_exporter": "python",
   "pygments_lexer": "ipython3",
   "version": "3.8.5"
  }
 },
 "nbformat": 4,
 "nbformat_minor": 2
}
