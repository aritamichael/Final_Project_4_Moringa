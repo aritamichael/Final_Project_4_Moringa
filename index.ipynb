{
 "cells": [
  {
   "cell_type": "markdown",
   "metadata": {},
   "source": [
    "<h1 style=\"text-align:center;\">CREATING A BOOK RECOMMENDATION SYSTEM</h1>\n"
   ]
  },
  {
   "cell_type": "markdown",
   "metadata": {},
   "source": [
    "<h2 style=\"text-align:center;\">BUSINESS UNDERSTANDING  </h2>"
   ]
  },
  {
   "cell_type": "markdown",
   "metadata": {},
   "source": [
    "<h3 style=\"text-align:left;\">Project Overview  </h3>"
   ]
  },
  {
   "cell_type": "markdown",
   "metadata": {},
   "source": [
    "Recommendation systems are powerful tools that use machine learning algorithms to provide suggestions that are useful to users based on behaviour or habit patterns or user data. \n",
    "A Book Recommendation System is a machine learning-based solution designed to suggest books to users based on their preferences and behavior. Recommendation systems enhance user engagement, drive sales, and improve customer satisfaction by providing personalized suggestions. This project aims to utlize advance machine learning tools to develop a book recommendation system that is tailored to meet personalized customers needs and preferences therefore helping customers with the challenge of locating or choosing which books to read considering the large electronic book presence. The data used is from Kaggle  [Kaggle](https://www.kaggle.com/datasets/somnambwl/bookcrossing-dataset/data)\n",
    "\n",
    "There are two primary approaches to recommendation systems:\n",
    "\n",
    "1. Collaborative Filtering – Uses user behavior and preferences to make recommendations.\n",
    "\n",
    "2. Content-Based Filtering – Suggests books based on the features and attributes of previously liked books"
   ]
  },
  {
   "cell_type": "markdown",
   "metadata": {},
   "source": [
    "<h3 style=\"text-align:left;\">Business Problem</h3>\n",
    "\n",
    "As earlier mentioned, with the rise of online and e-commerce services, customers face challenges in finding books that match their preferences. The goal is to develop a Book Recommendation System that offers personalized book suggestions, improving user experience and engagement."
   ]
  },
  {
   "cell_type": "markdown",
   "metadata": {},
   "source": [
    "<h3 style=\"text-align:left;\">Project Objectives</h3>\n",
    "\n",
    "Develop a recommendation system that provides tailored book suggestions.\n",
    "\n",
    "Increase book sales by recommending books users are most likely to purchase.\n",
    "\n",
    "Enhance customer retention by offering relevant recommendations.\n",
    "\n",
    "Improve user engagement by making book discovery easier."
   ]
  },
  {
   "cell_type": "markdown",
   "metadata": {},
   "source": [
    "<h3 style=\"text-align:left;\">Key Analysis Questions:</h3>\n",
    "\n",
    "Which authors consistently receive high ratings?\n",
    "\n",
    "Does the year of publication influence book ratings?\n",
    "\n",
    "How accurate are the collaborative filtering recommendations?\n",
    "\n",
    "How does class imbalance in ratings affect recommendation performance?"
   ]
  },
  {
   "cell_type": "markdown",
   "metadata": {},
   "source": [
    "<h3 style=\"text-align:left;\">Key Analysis Questions:</h3>\n",
    "\n",
    "Which authors consistently receive high ratings?\n",
    "\n",
    "Does the year of publication influence book ratings?\n",
    "\n",
    "How accurate are the collaborative filtering recommendations?\n",
    "\n",
    "How does class imbalance in ratings affect recommendation performance?"
   ]
  },
  {
   "cell_type": "markdown",
   "metadata": {},
   "source": [
    "<h3 style=\"text-align:left;\">Data Source</h3>\n",
    "\n",
    "The dataset is obtained from Kaggle and consists of three files:\n",
    "\n",
    "Books.csv – Includes details such as ISBN, title, author, year, and publisher.\n",
    "\n",
    "Ratings.csv – Contains user ratings (0 to 10) linked to books via ISBN and user ID.\n",
    "\n",
    "Users.csv – Provides user demographics, including age."
   ]
  },
  {
   "cell_type": "markdown",
   "metadata": {},
   "source": [
    "<h3 style=\"text-align:left;\">Data Source</h3>\n",
    "\n",
    "The dataset is obtained from Kaggle and consists of three files:\n",
    "\n",
    "Books.csv – Includes details such as ISBN, title, author, year, and publisher.\n",
    "\n",
    "Ratings.csv – Contains user ratings (0 to 10) linked to books via ISBN and user ID.\n",
    "\n",
    "Users.csv – Provides user demographics, including age."
   ]
  },
  {
   "cell_type": "markdown",
   "metadata": {},
   "source": [
    "<h3 style=\"text-align:left;\">Stakeholders</h3>\n",
    "\n",
    "Customers – Expect personalized and accurate book recommendations.\n",
    "\n",
    "Marketing Team – Uses insights for targeted promotions and advertising.\n",
    "\n",
    "Data Scientists – Focus on optimizing the accuracy and scalability of the model.\n",
    "\n",
    "Book Authors – Gain insights into audience preferences and book popularity.\n",
    "\n",
    "Executives (CEO) – Assess the business impact of the recommendation system on revenue and customer retention."
   ]
  },
  {
   "cell_type": "markdown",
   "metadata": {},
   "source": [
    "<h3 style=\"text-align:left;\">Methodology</h3>\n",
    "\n",
    "The project follows the CRISP-DM framework:\n",
    "\n",
    "Business Understanding – Define project goals and objectives.\n",
    "\n",
    "Data Understanding – Explore and assess data quality.\n",
    "\n",
    "Data Preparation – Clean and preprocess data.\n",
    "\n",
    "Modeling – Implement recommendation models.\n",
    "\n",
    "Evaluation – Assess model performance using relevant metrics."
   ]
  },
  {
   "cell_type": "markdown",
   "metadata": {},
   "source": [
    "<h3 style=\"text-align:left;\">Data Understanding</h3>\n",
    "\n",
    "A thorough exploration of the dataset ensures high-quality inputs for model training.\n",
    "\n",
    "<h4 style=\"text-align:left;\">A. Dataset Overview</h4>\n",
    "\n",
    "Books Dataset – Provides ISBN, title, author, publisher, and publication year.\n",
    "\n",
    "Users Dataset – Contains user demographics, including age.\n",
    "\n",
    "Ratings Dataset – Includes user ratings for books (0-10 scale).\n",
    "\n",
    "<h4 style=\"text-align:left;\">B. Data Merging</h4>\n",
    "Merged Ratings.csv with Users.csv using User-ID.\n",
    "\n",
    "Further merged with Books.csv using ISBN to form a comprehensive dataset."
   ]
  },
  {
   "cell_type": "markdown",
   "metadata": {},
   "source": [
    "<h4 style=\"text-align:left;\">C. Key Insights</h4>\n",
    "\n",
    "Outliers – Unreasonable age values need capping or removal.\n",
    "\n",
    "Missing Values –\n",
    "\n",
    "Age column has ~27% missing values; will be imputed using the median.\n",
    "\n",
    "Book-Author and Publisher have negligible missing values; will be dropped.\n",
    "\n",
    "Image URLs will be dropped as they are irrelevant to analysis."
   ]
  },
  {
   "cell_type": "markdown",
   "metadata": {},
   "source": [
    "<h4 style=\"text-align:left;\">D. Data Analysis</h4>\n",
    "\n",
    "i) Univariate Analysis\n",
    "\n",
    "Book Ratings – Understand rating distribution and trends.\n",
    "\n",
    "User Ages – Identify major reading demographics.\n",
    "\n",
    "ii) Bivariate Analysis\n",
    "\n",
    "Age vs. Ratings – Understand rating preferences across age groups.\n",
    "\n",
    "Authors vs. Ratings – Identify consistently high-rated authors.\n",
    "\n",
    "Publisher vs. Ratings – Analyze publisher influence on book ratings.\n",
    "\n",
    "Publication Year vs. Ratings – Determine if newer books receive better ratings.\n"
   ]
  },
  {
   "cell_type": "markdown",
   "metadata": {},
   "source": [
    "<h3 style=\"text-align:left;\">Modeling</h3>\n",
    "\n",
    "We will develop and evaluate two types of recommendation models:\n",
    "\n",
    "1. Collaborative Filtering\n",
    "\n",
    "User-User Filtering – Recommends books based on user similarity.\n",
    "\n",
    "Item-Item Filtering – Suggests books similar to previously liked books.\n",
    "\n",
    "Techniques Used: SVD, Cosine Similarity.\n",
    "\n",
    "Challenge:\n",
    "\n",
    "Struggles with new users or books lacking sufficient interaction history (cold start problem).\n",
    "\n",
    "\n"
   ]
  },
  {
   "cell_type": "markdown",
   "metadata": {},
   "source": [
    "<h3 style=\"text-align:left;\">Modeling Evaluation</h3>\n",
    "\n",
    "For evaluation, we use:\n",
    "\n",
    "Precision – Measures how many recommended books are relevant.\n",
    "\n",
    "Recall – Ensures a diverse and comprehensive recommendation list.\n",
    "\n",
    "F1-Score – Balances precision and recall.\n",
    "\n",
    "RMSE & MAE – Measures prediction accuracy.\n",
    "\n",
    "\n",
    "\n"
   ]
  },
  {
   "cell_type": "markdown",
   "metadata": {},
   "source": [
    "<h3 style=\"text-align:left;\">Expected Results</h3>\n",
    "\n",
    "The primary focus is on precision, ensuring highly relevant recommendations that improve user satisfaction. The goal is to achieve a precision score of at least 75%, ensuring accurate and personalized book suggestions."
   ]
  },
  {
   "cell_type": "markdown",
   "metadata": {},
   "source": [
    "<h2 style=\"text-align:center;\"> DATA PREPARATION </h2>"
   ]
  },
  {
   "cell_type": "markdown",
   "metadata": {},
   "source": [
    "For this section of the project, data is prepared for analysis by loading our data for inspection, visualizing it , cleaning it and performing feature engineering to better improve the dataset for analysis. All important libraries releveant to our project are also imported at this point."
   ]
  },
  {
   "cell_type": "markdown",
   "metadata": {},
   "source": [
    "1. Started by importing relevant libraries and loading datasets"
   ]
  },
  {
   "cell_type": "code",
   "execution_count": null,
   "metadata": {},
   "outputs": [],
   "source": [
    "#Import relevant libraries\n",
    "import pandas as pd\n",
    "import numpy as np\n",
    "import matplotlib.pyplot as plt\n",
    "import seaborn as sns\n",
    "from surprise import Dataset, Reader, SVD\n",
    "from surprise.model_selection import train_test_split\n",
    "from surprise import accuracy\n",
    "from surprise.model_selection import GridSearchCV\n",
    "from sklearn.metrics import precision_score, recall_score, f1_score, accuracy_score\n",
    "from scipy.sparse import csr_matrix\n",
    "from sklearn.metrics.pairwise import cosine_similarity\n",
    "from sklearn.impute import SimpleImputer\n",
    "from imblearn.under_sampling import RandomUnderSampler\n",
    "\n",
    "\n"
   ]
  },
  {
   "cell_type": "markdown",
   "metadata": {},
   "source": [
    "We then load the datasets"
   ]
  },
  {
   "cell_type": "code",
   "execution_count": 41,
   "metadata": {},
   "outputs": [
    {
     "data": {
      "text/html": [
       "<div>\n",
       "<style scoped>\n",
       "    .dataframe tbody tr th:only-of-type {\n",
       "        vertical-align: middle;\n",
       "    }\n",
       "\n",
       "    .dataframe tbody tr th {\n",
       "        vertical-align: top;\n",
       "    }\n",
       "\n",
       "    .dataframe thead th {\n",
       "        text-align: right;\n",
       "    }\n",
       "</style>\n",
       "<table border=\"1\" class=\"dataframe\">\n",
       "  <thead>\n",
       "    <tr style=\"text-align: right;\">\n",
       "      <th></th>\n",
       "      <th>ISBN</th>\n",
       "      <th>Book-Title</th>\n",
       "      <th>Book-Author</th>\n",
       "      <th>Year-Of-Publication</th>\n",
       "      <th>Publisher</th>\n",
       "      <th>Image-URL-S</th>\n",
       "      <th>Image-URL-M</th>\n",
       "      <th>Image-URL-L</th>\n",
       "    </tr>\n",
       "  </thead>\n",
       "  <tbody>\n",
       "    <tr>\n",
       "      <th>0</th>\n",
       "      <td>0195153448</td>\n",
       "      <td>Classical Mythology</td>\n",
       "      <td>Mark P. O. Morford</td>\n",
       "      <td>2002</td>\n",
       "      <td>Oxford University Press</td>\n",
       "      <td>http://images.amazon.com/images/P/0195153448.0...</td>\n",
       "      <td>http://images.amazon.com/images/P/0195153448.0...</td>\n",
       "      <td>http://images.amazon.com/images/P/0195153448.0...</td>\n",
       "    </tr>\n",
       "    <tr>\n",
       "      <th>1</th>\n",
       "      <td>0002005018</td>\n",
       "      <td>Clara Callan</td>\n",
       "      <td>Richard Bruce Wright</td>\n",
       "      <td>2001</td>\n",
       "      <td>HarperFlamingo Canada</td>\n",
       "      <td>http://images.amazon.com/images/P/0002005018.0...</td>\n",
       "      <td>http://images.amazon.com/images/P/0002005018.0...</td>\n",
       "      <td>http://images.amazon.com/images/P/0002005018.0...</td>\n",
       "    </tr>\n",
       "    <tr>\n",
       "      <th>2</th>\n",
       "      <td>0060973129</td>\n",
       "      <td>Decision in Normandy</td>\n",
       "      <td>Carlo D'Este</td>\n",
       "      <td>1991</td>\n",
       "      <td>HarperPerennial</td>\n",
       "      <td>http://images.amazon.com/images/P/0060973129.0...</td>\n",
       "      <td>http://images.amazon.com/images/P/0060973129.0...</td>\n",
       "      <td>http://images.amazon.com/images/P/0060973129.0...</td>\n",
       "    </tr>\n",
       "    <tr>\n",
       "      <th>3</th>\n",
       "      <td>0374157065</td>\n",
       "      <td>Flu: The Story of the Great Influenza Pandemic...</td>\n",
       "      <td>Gina Bari Kolata</td>\n",
       "      <td>1999</td>\n",
       "      <td>Farrar Straus Giroux</td>\n",
       "      <td>http://images.amazon.com/images/P/0374157065.0...</td>\n",
       "      <td>http://images.amazon.com/images/P/0374157065.0...</td>\n",
       "      <td>http://images.amazon.com/images/P/0374157065.0...</td>\n",
       "    </tr>\n",
       "    <tr>\n",
       "      <th>4</th>\n",
       "      <td>0393045218</td>\n",
       "      <td>The Mummies of Urumchi</td>\n",
       "      <td>E. J. W. Barber</td>\n",
       "      <td>1999</td>\n",
       "      <td>W. W. Norton &amp;amp; Company</td>\n",
       "      <td>http://images.amazon.com/images/P/0393045218.0...</td>\n",
       "      <td>http://images.amazon.com/images/P/0393045218.0...</td>\n",
       "      <td>http://images.amazon.com/images/P/0393045218.0...</td>\n",
       "    </tr>\n",
       "  </tbody>\n",
       "</table>\n",
       "</div>"
      ],
      "text/plain": [
       "         ISBN                                         Book-Title  \\\n",
       "0  0195153448                                Classical Mythology   \n",
       "1  0002005018                                       Clara Callan   \n",
       "2  0060973129                               Decision in Normandy   \n",
       "3  0374157065  Flu: The Story of the Great Influenza Pandemic...   \n",
       "4  0393045218                             The Mummies of Urumchi   \n",
       "\n",
       "            Book-Author Year-Of-Publication                   Publisher  \\\n",
       "0    Mark P. O. Morford                2002     Oxford University Press   \n",
       "1  Richard Bruce Wright                2001       HarperFlamingo Canada   \n",
       "2          Carlo D'Este                1991             HarperPerennial   \n",
       "3      Gina Bari Kolata                1999        Farrar Straus Giroux   \n",
       "4       E. J. W. Barber                1999  W. W. Norton &amp; Company   \n",
       "\n",
       "                                         Image-URL-S  \\\n",
       "0  http://images.amazon.com/images/P/0195153448.0...   \n",
       "1  http://images.amazon.com/images/P/0002005018.0...   \n",
       "2  http://images.amazon.com/images/P/0060973129.0...   \n",
       "3  http://images.amazon.com/images/P/0374157065.0...   \n",
       "4  http://images.amazon.com/images/P/0393045218.0...   \n",
       "\n",
       "                                         Image-URL-M  \\\n",
       "0  http://images.amazon.com/images/P/0195153448.0...   \n",
       "1  http://images.amazon.com/images/P/0002005018.0...   \n",
       "2  http://images.amazon.com/images/P/0060973129.0...   \n",
       "3  http://images.amazon.com/images/P/0374157065.0...   \n",
       "4  http://images.amazon.com/images/P/0393045218.0...   \n",
       "\n",
       "                                         Image-URL-L  \n",
       "0  http://images.amazon.com/images/P/0195153448.0...  \n",
       "1  http://images.amazon.com/images/P/0002005018.0...  \n",
       "2  http://images.amazon.com/images/P/0060973129.0...  \n",
       "3  http://images.amazon.com/images/P/0374157065.0...  \n",
       "4  http://images.amazon.com/images/P/0393045218.0...  "
      ]
     },
     "execution_count": 41,
     "metadata": {},
     "output_type": "execute_result"
    }
   ],
   "source": [
    "#Load 'books.csv' dataset\n",
    "Books = pd.read_csv('Books.csv',low_memory=False)\n",
    "Books.head()"
   ]
  },
  {
   "cell_type": "code",
   "execution_count": 39,
   "metadata": {},
   "outputs": [
    {
     "data": {
      "text/html": [
       "<div>\n",
       "<style scoped>\n",
       "    .dataframe tbody tr th:only-of-type {\n",
       "        vertical-align: middle;\n",
       "    }\n",
       "\n",
       "    .dataframe tbody tr th {\n",
       "        vertical-align: top;\n",
       "    }\n",
       "\n",
       "    .dataframe thead th {\n",
       "        text-align: right;\n",
       "    }\n",
       "</style>\n",
       "<table border=\"1\" class=\"dataframe\">\n",
       "  <thead>\n",
       "    <tr style=\"text-align: right;\">\n",
       "      <th></th>\n",
       "      <th>User-ID</th>\n",
       "      <th>ISBN</th>\n",
       "      <th>Book-Rating</th>\n",
       "    </tr>\n",
       "  </thead>\n",
       "  <tbody>\n",
       "    <tr>\n",
       "      <th>0</th>\n",
       "      <td>276725</td>\n",
       "      <td>034545104X</td>\n",
       "      <td>0</td>\n",
       "    </tr>\n",
       "    <tr>\n",
       "      <th>1</th>\n",
       "      <td>276726</td>\n",
       "      <td>0155061224</td>\n",
       "      <td>5</td>\n",
       "    </tr>\n",
       "    <tr>\n",
       "      <th>2</th>\n",
       "      <td>276727</td>\n",
       "      <td>0446520802</td>\n",
       "      <td>0</td>\n",
       "    </tr>\n",
       "    <tr>\n",
       "      <th>3</th>\n",
       "      <td>276729</td>\n",
       "      <td>052165615X</td>\n",
       "      <td>3</td>\n",
       "    </tr>\n",
       "    <tr>\n",
       "      <th>4</th>\n",
       "      <td>276729</td>\n",
       "      <td>0521795028</td>\n",
       "      <td>6</td>\n",
       "    </tr>\n",
       "  </tbody>\n",
       "</table>\n",
       "</div>"
      ],
      "text/plain": [
       "   User-ID        ISBN  Book-Rating\n",
       "0   276725  034545104X            0\n",
       "1   276726  0155061224            5\n",
       "2   276727  0446520802            0\n",
       "3   276729  052165615X            3\n",
       "4   276729  0521795028            6"
      ]
     },
     "execution_count": 39,
     "metadata": {},
     "output_type": "execute_result"
    }
   ],
   "source": [
    "#Load 'ratings.csv' dataset\n",
    "Ratings = pd.read_csv('Ratings.csv')\n",
    "Ratings.head()\n",
    "\n"
   ]
  },
  {
   "cell_type": "code",
   "execution_count": 38,
   "metadata": {},
   "outputs": [
    {
     "data": {
      "text/html": [
       "<div>\n",
       "<style scoped>\n",
       "    .dataframe tbody tr th:only-of-type {\n",
       "        vertical-align: middle;\n",
       "    }\n",
       "\n",
       "    .dataframe tbody tr th {\n",
       "        vertical-align: top;\n",
       "    }\n",
       "\n",
       "    .dataframe thead th {\n",
       "        text-align: right;\n",
       "    }\n",
       "</style>\n",
       "<table border=\"1\" class=\"dataframe\">\n",
       "  <thead>\n",
       "    <tr style=\"text-align: right;\">\n",
       "      <th></th>\n",
       "      <th>User-ID</th>\n",
       "      <th>Location</th>\n",
       "      <th>Age</th>\n",
       "    </tr>\n",
       "  </thead>\n",
       "  <tbody>\n",
       "    <tr>\n",
       "      <th>0</th>\n",
       "      <td>1</td>\n",
       "      <td>nyc, new york, usa</td>\n",
       "      <td>NaN</td>\n",
       "    </tr>\n",
       "    <tr>\n",
       "      <th>1</th>\n",
       "      <td>2</td>\n",
       "      <td>stockton, california, usa</td>\n",
       "      <td>18.0</td>\n",
       "    </tr>\n",
       "    <tr>\n",
       "      <th>2</th>\n",
       "      <td>3</td>\n",
       "      <td>moscow, yukon territory, russia</td>\n",
       "      <td>NaN</td>\n",
       "    </tr>\n",
       "    <tr>\n",
       "      <th>3</th>\n",
       "      <td>4</td>\n",
       "      <td>porto, v.n.gaia, portugal</td>\n",
       "      <td>17.0</td>\n",
       "    </tr>\n",
       "    <tr>\n",
       "      <th>4</th>\n",
       "      <td>5</td>\n",
       "      <td>farnborough, hants, united kingdom</td>\n",
       "      <td>NaN</td>\n",
       "    </tr>\n",
       "  </tbody>\n",
       "</table>\n",
       "</div>"
      ],
      "text/plain": [
       "   User-ID                            Location   Age\n",
       "0        1                  nyc, new york, usa   NaN\n",
       "1        2           stockton, california, usa  18.0\n",
       "2        3     moscow, yukon territory, russia   NaN\n",
       "3        4           porto, v.n.gaia, portugal  17.0\n",
       "4        5  farnborough, hants, united kingdom   NaN"
      ]
     },
     "execution_count": 38,
     "metadata": {},
     "output_type": "execute_result"
    }
   ],
   "source": [
    "Users = pd.read_csv('Users.csv')\n",
    "Users.head()"
   ]
  },
  {
   "cell_type": "markdown",
   "metadata": {},
   "source": [
    "### Merging the datasets\n",
    "From our datasets above, there are 3 files. The ratings and users dataset share a common column 'User-ID' that can be merged into one. ."
   ]
  },
  {
   "cell_type": "code",
   "execution_count": 43,
   "metadata": {},
   "outputs": [],
   "source": [
    "#perform the merge based on 'User-ID'\n",
    "merged_df = pd.merge(Ratings,Users[['User-ID','Age']],on='User-ID',how='inner')"
   ]
  },
  {
   "cell_type": "code",
   "execution_count": 45,
   "metadata": {},
   "outputs": [
    {
     "data": {
      "text/html": [
       "<div>\n",
       "<style scoped>\n",
       "    .dataframe tbody tr th:only-of-type {\n",
       "        vertical-align: middle;\n",
       "    }\n",
       "\n",
       "    .dataframe tbody tr th {\n",
       "        vertical-align: top;\n",
       "    }\n",
       "\n",
       "    .dataframe thead th {\n",
       "        text-align: right;\n",
       "    }\n",
       "</style>\n",
       "<table border=\"1\" class=\"dataframe\">\n",
       "  <thead>\n",
       "    <tr style=\"text-align: right;\">\n",
       "      <th></th>\n",
       "      <th>User-ID</th>\n",
       "      <th>Book-Rating</th>\n",
       "      <th>Age</th>\n",
       "      <th>ISBN</th>\n",
       "    </tr>\n",
       "  </thead>\n",
       "  <tbody>\n",
       "    <tr>\n",
       "      <th>0</th>\n",
       "      <td>276725</td>\n",
       "      <td>0</td>\n",
       "      <td>NaN</td>\n",
       "      <td>034545104X</td>\n",
       "    </tr>\n",
       "    <tr>\n",
       "      <th>1</th>\n",
       "      <td>276726</td>\n",
       "      <td>5</td>\n",
       "      <td>NaN</td>\n",
       "      <td>0155061224</td>\n",
       "    </tr>\n",
       "    <tr>\n",
       "      <th>2</th>\n",
       "      <td>276727</td>\n",
       "      <td>0</td>\n",
       "      <td>16.0</td>\n",
       "      <td>0446520802</td>\n",
       "    </tr>\n",
       "    <tr>\n",
       "      <th>3</th>\n",
       "      <td>276729</td>\n",
       "      <td>3</td>\n",
       "      <td>16.0</td>\n",
       "      <td>052165615X</td>\n",
       "    </tr>\n",
       "    <tr>\n",
       "      <th>4</th>\n",
       "      <td>276729</td>\n",
       "      <td>6</td>\n",
       "      <td>16.0</td>\n",
       "      <td>0521795028</td>\n",
       "    </tr>\n",
       "  </tbody>\n",
       "</table>\n",
       "</div>"
      ],
      "text/plain": [
       "   User-ID  Book-Rating   Age        ISBN\n",
       "0   276725            0   NaN  034545104X\n",
       "1   276726            5   NaN  0155061224\n",
       "2   276727            0  16.0  0446520802\n",
       "3   276729            3  16.0  052165615X\n",
       "4   276729            6  16.0  0521795028"
      ]
     },
     "execution_count": 45,
     "metadata": {},
     "output_type": "execute_result"
    }
   ],
   "source": [
    "#keep only the selected columns\n",
    "merged_df = merged_df[['User-ID','Book-Rating','Age','ISBN']]\n",
    "merged_df.head()"
   ]
  },
  {
   "cell_type": "markdown",
   "metadata": {},
   "source": [
    "Merged the common ISBN columns on both the merged_df file and the Books file"
   ]
  },
  {
   "cell_type": "code",
   "execution_count": null,
   "metadata": {},
   "outputs": [
    {
     "data": {
      "text/html": [
       "<div>\n",
       "<style scoped>\n",
       "    .dataframe tbody tr th:only-of-type {\n",
       "        vertical-align: middle;\n",
       "    }\n",
       "\n",
       "    .dataframe tbody tr th {\n",
       "        vertical-align: top;\n",
       "    }\n",
       "\n",
       "    .dataframe thead th {\n",
       "        text-align: right;\n",
       "    }\n",
       "</style>\n",
       "<table border=\"1\" class=\"dataframe\">\n",
       "  <thead>\n",
       "    <tr style=\"text-align: right;\">\n",
       "      <th></th>\n",
       "      <th>User-ID</th>\n",
       "      <th>Book-Rating</th>\n",
       "      <th>Age</th>\n",
       "      <th>ISBN</th>\n",
       "      <th>Book-Title</th>\n",
       "      <th>Book-Author</th>\n",
       "      <th>Year-Of-Publication</th>\n",
       "      <th>Publisher</th>\n",
       "      <th>Image-URL-S</th>\n",
       "      <th>Image-URL-M</th>\n",
       "      <th>Image-URL-L</th>\n",
       "    </tr>\n",
       "  </thead>\n",
       "  <tbody>\n",
       "    <tr>\n",
       "      <th>0</th>\n",
       "      <td>276725</td>\n",
       "      <td>0</td>\n",
       "      <td>NaN</td>\n",
       "      <td>034545104X</td>\n",
       "      <td>Flesh Tones: A Novel</td>\n",
       "      <td>M. J. Rose</td>\n",
       "      <td>2002</td>\n",
       "      <td>Ballantine Books</td>\n",
       "      <td>http://images.amazon.com/images/P/034545104X.0...</td>\n",
       "      <td>http://images.amazon.com/images/P/034545104X.0...</td>\n",
       "      <td>http://images.amazon.com/images/P/034545104X.0...</td>\n",
       "    </tr>\n",
       "    <tr>\n",
       "      <th>1</th>\n",
       "      <td>2313</td>\n",
       "      <td>5</td>\n",
       "      <td>23.0</td>\n",
       "      <td>034545104X</td>\n",
       "      <td>Flesh Tones: A Novel</td>\n",
       "      <td>M. J. Rose</td>\n",
       "      <td>2002</td>\n",
       "      <td>Ballantine Books</td>\n",
       "      <td>http://images.amazon.com/images/P/034545104X.0...</td>\n",
       "      <td>http://images.amazon.com/images/P/034545104X.0...</td>\n",
       "      <td>http://images.amazon.com/images/P/034545104X.0...</td>\n",
       "    </tr>\n",
       "    <tr>\n",
       "      <th>2</th>\n",
       "      <td>6543</td>\n",
       "      <td>0</td>\n",
       "      <td>34.0</td>\n",
       "      <td>034545104X</td>\n",
       "      <td>Flesh Tones: A Novel</td>\n",
       "      <td>M. J. Rose</td>\n",
       "      <td>2002</td>\n",
       "      <td>Ballantine Books</td>\n",
       "      <td>http://images.amazon.com/images/P/034545104X.0...</td>\n",
       "      <td>http://images.amazon.com/images/P/034545104X.0...</td>\n",
       "      <td>http://images.amazon.com/images/P/034545104X.0...</td>\n",
       "    </tr>\n",
       "    <tr>\n",
       "      <th>3</th>\n",
       "      <td>8680</td>\n",
       "      <td>5</td>\n",
       "      <td>2.0</td>\n",
       "      <td>034545104X</td>\n",
       "      <td>Flesh Tones: A Novel</td>\n",
       "      <td>M. J. Rose</td>\n",
       "      <td>2002</td>\n",
       "      <td>Ballantine Books</td>\n",
       "      <td>http://images.amazon.com/images/P/034545104X.0...</td>\n",
       "      <td>http://images.amazon.com/images/P/034545104X.0...</td>\n",
       "      <td>http://images.amazon.com/images/P/034545104X.0...</td>\n",
       "    </tr>\n",
       "    <tr>\n",
       "      <th>4</th>\n",
       "      <td>10314</td>\n",
       "      <td>9</td>\n",
       "      <td>NaN</td>\n",
       "      <td>034545104X</td>\n",
       "      <td>Flesh Tones: A Novel</td>\n",
       "      <td>M. J. Rose</td>\n",
       "      <td>2002</td>\n",
       "      <td>Ballantine Books</td>\n",
       "      <td>http://images.amazon.com/images/P/034545104X.0...</td>\n",
       "      <td>http://images.amazon.com/images/P/034545104X.0...</td>\n",
       "      <td>http://images.amazon.com/images/P/034545104X.0...</td>\n",
       "    </tr>\n",
       "  </tbody>\n",
       "</table>\n",
       "</div>"
      ],
      "text/plain": [
       "   User-ID  Book-Rating   Age        ISBN            Book-Title Book-Author  \\\n",
       "0   276725            0   NaN  034545104X  Flesh Tones: A Novel  M. J. Rose   \n",
       "1     2313            5  23.0  034545104X  Flesh Tones: A Novel  M. J. Rose   \n",
       "2     6543            0  34.0  034545104X  Flesh Tones: A Novel  M. J. Rose   \n",
       "3     8680            5   2.0  034545104X  Flesh Tones: A Novel  M. J. Rose   \n",
       "4    10314            9   NaN  034545104X  Flesh Tones: A Novel  M. J. Rose   \n",
       "\n",
       "  Year-Of-Publication         Publisher  \\\n",
       "0                2002  Ballantine Books   \n",
       "1                2002  Ballantine Books   \n",
       "2                2002  Ballantine Books   \n",
       "3                2002  Ballantine Books   \n",
       "4                2002  Ballantine Books   \n",
       "\n",
       "                                         Image-URL-S  \\\n",
       "0  http://images.amazon.com/images/P/034545104X.0...   \n",
       "1  http://images.amazon.com/images/P/034545104X.0...   \n",
       "2  http://images.amazon.com/images/P/034545104X.0...   \n",
       "3  http://images.amazon.com/images/P/034545104X.0...   \n",
       "4  http://images.amazon.com/images/P/034545104X.0...   \n",
       "\n",
       "                                         Image-URL-M  \\\n",
       "0  http://images.amazon.com/images/P/034545104X.0...   \n",
       "1  http://images.amazon.com/images/P/034545104X.0...   \n",
       "2  http://images.amazon.com/images/P/034545104X.0...   \n",
       "3  http://images.amazon.com/images/P/034545104X.0...   \n",
       "4  http://images.amazon.com/images/P/034545104X.0...   \n",
       "\n",
       "                                         Image-URL-L  \n",
       "0  http://images.amazon.com/images/P/034545104X.0...  \n",
       "1  http://images.amazon.com/images/P/034545104X.0...  \n",
       "2  http://images.amazon.com/images/P/034545104X.0...  \n",
       "3  http://images.amazon.com/images/P/034545104X.0...  \n",
       "4  http://images.amazon.com/images/P/034545104X.0...  "
      ]
     },
     "execution_count": 46,
     "metadata": {},
     "output_type": "execute_result"
    }
   ],
   "source": [
    "#merge based on 'ISBN'\n",
    "merged_df1 = pd.merge(merged_df,Books,on='ISBN',how='inner')\n",
    "merged_df1.head()"
   ]
  },
  {
   "cell_type": "markdown",
   "metadata": {},
   "source": [
    "Drop the Image URL columns since they are irrelevant in our study"
   ]
  },
  {
   "cell_type": "code",
   "execution_count": 47,
   "metadata": {},
   "outputs": [
    {
     "data": {
      "text/html": [
       "<div>\n",
       "<style scoped>\n",
       "    .dataframe tbody tr th:only-of-type {\n",
       "        vertical-align: middle;\n",
       "    }\n",
       "\n",
       "    .dataframe tbody tr th {\n",
       "        vertical-align: top;\n",
       "    }\n",
       "\n",
       "    .dataframe thead th {\n",
       "        text-align: right;\n",
       "    }\n",
       "</style>\n",
       "<table border=\"1\" class=\"dataframe\">\n",
       "  <thead>\n",
       "    <tr style=\"text-align: right;\">\n",
       "      <th></th>\n",
       "      <th>User-ID</th>\n",
       "      <th>Book-Rating</th>\n",
       "      <th>Age</th>\n",
       "      <th>ISBN</th>\n",
       "      <th>Book-Title</th>\n",
       "      <th>Book-Author</th>\n",
       "      <th>Year-Of-Publication</th>\n",
       "      <th>Publisher</th>\n",
       "    </tr>\n",
       "  </thead>\n",
       "  <tbody>\n",
       "    <tr>\n",
       "      <th>0</th>\n",
       "      <td>276725</td>\n",
       "      <td>0</td>\n",
       "      <td>NaN</td>\n",
       "      <td>034545104X</td>\n",
       "      <td>Flesh Tones: A Novel</td>\n",
       "      <td>M. J. Rose</td>\n",
       "      <td>2002</td>\n",
       "      <td>Ballantine Books</td>\n",
       "    </tr>\n",
       "    <tr>\n",
       "      <th>1</th>\n",
       "      <td>2313</td>\n",
       "      <td>5</td>\n",
       "      <td>23.0</td>\n",
       "      <td>034545104X</td>\n",
       "      <td>Flesh Tones: A Novel</td>\n",
       "      <td>M. J. Rose</td>\n",
       "      <td>2002</td>\n",
       "      <td>Ballantine Books</td>\n",
       "    </tr>\n",
       "    <tr>\n",
       "      <th>2</th>\n",
       "      <td>6543</td>\n",
       "      <td>0</td>\n",
       "      <td>34.0</td>\n",
       "      <td>034545104X</td>\n",
       "      <td>Flesh Tones: A Novel</td>\n",
       "      <td>M. J. Rose</td>\n",
       "      <td>2002</td>\n",
       "      <td>Ballantine Books</td>\n",
       "    </tr>\n",
       "    <tr>\n",
       "      <th>3</th>\n",
       "      <td>8680</td>\n",
       "      <td>5</td>\n",
       "      <td>2.0</td>\n",
       "      <td>034545104X</td>\n",
       "      <td>Flesh Tones: A Novel</td>\n",
       "      <td>M. J. Rose</td>\n",
       "      <td>2002</td>\n",
       "      <td>Ballantine Books</td>\n",
       "    </tr>\n",
       "    <tr>\n",
       "      <th>4</th>\n",
       "      <td>10314</td>\n",
       "      <td>9</td>\n",
       "      <td>NaN</td>\n",
       "      <td>034545104X</td>\n",
       "      <td>Flesh Tones: A Novel</td>\n",
       "      <td>M. J. Rose</td>\n",
       "      <td>2002</td>\n",
       "      <td>Ballantine Books</td>\n",
       "    </tr>\n",
       "  </tbody>\n",
       "</table>\n",
       "</div>"
      ],
      "text/plain": [
       "   User-ID  Book-Rating   Age        ISBN            Book-Title Book-Author  \\\n",
       "0   276725            0   NaN  034545104X  Flesh Tones: A Novel  M. J. Rose   \n",
       "1     2313            5  23.0  034545104X  Flesh Tones: A Novel  M. J. Rose   \n",
       "2     6543            0  34.0  034545104X  Flesh Tones: A Novel  M. J. Rose   \n",
       "3     8680            5   2.0  034545104X  Flesh Tones: A Novel  M. J. Rose   \n",
       "4    10314            9   NaN  034545104X  Flesh Tones: A Novel  M. J. Rose   \n",
       "\n",
       "  Year-Of-Publication         Publisher  \n",
       "0                2002  Ballantine Books  \n",
       "1                2002  Ballantine Books  \n",
       "2                2002  Ballantine Books  \n",
       "3                2002  Ballantine Books  \n",
       "4                2002  Ballantine Books  "
      ]
     },
     "execution_count": 47,
     "metadata": {},
     "output_type": "execute_result"
    }
   ],
   "source": [
    "# Drop unnecessary image URL columns\n",
    "merged_df1 = merged_df1.drop(columns=['Image-URL-L','Image-URL-M','Image-URL-S'],axis=1)\n",
    "merged_df1.head()"
   ]
  },
  {
   "cell_type": "code",
   "execution_count": 49,
   "metadata": {},
   "outputs": [
    {
     "data": {
      "text/plain": [
       "(1031136, 8)"
      ]
     },
     "execution_count": 49,
     "metadata": {},
     "output_type": "execute_result"
    }
   ],
   "source": [
    "#Get shape of the dataset\n",
    "merged_df1.shape"
   ]
  },
  {
   "cell_type": "code",
   "execution_count": 51,
   "metadata": {},
   "outputs": [
    {
     "name": "stdout",
     "output_type": "stream",
     "text": [
      "<class 'pandas.core.frame.DataFrame'>\n",
      "Int64Index: 1031136 entries, 0 to 1031135\n",
      "Data columns (total 8 columns):\n",
      " #   Column               Non-Null Count    Dtype  \n",
      "---  ------               --------------    -----  \n",
      " 0   User-ID              1031136 non-null  int64  \n",
      " 1   Book-Rating          1031136 non-null  int64  \n",
      " 2   Age                  753301 non-null   float64\n",
      " 3   ISBN                 1031136 non-null  object \n",
      " 4   Book-Title           1031136 non-null  object \n",
      " 5   Book-Author          1031135 non-null  object \n",
      " 6   Year-Of-Publication  1031136 non-null  object \n",
      " 7   Publisher            1031134 non-null  object \n",
      "dtypes: float64(1), int64(2), object(5)\n",
      "memory usage: 70.8+ MB\n"
     ]
    }
   ],
   "source": [
    "#Summary of our dataframe\n",
    "merged_df1.info()"
   ]
  },
  {
   "cell_type": "markdown",
   "metadata": {},
   "source": [
    "# 2. Exploratory Data Analysis (EDA)"
   ]
  },
  {
   "cell_type": "markdown",
   "metadata": {},
   "source": [
    "## I.Univariate Analysis"
   ]
  },
  {
   "cell_type": "markdown",
   "metadata": {},
   "source": [
    "### A. Book Ratings Distribution\n",
    "Helps to understand the overal view of users towards the books."
   ]
  },
  {
   "cell_type": "code",
   "execution_count": 53,
   "metadata": {},
   "outputs": [],
   "source": [
    "#Rename the columns\n",
    "merged_df1.rename(columns={\"User-ID\": \"UserID\",\n",
    "                   \"Book-Rating\":\"Rating\", \n",
    "                   \"Book-Title\": \"Book_title\", \n",
    "                    \"Book-Author\":\"Author\",\n",
    "                   \"Year-Of-Publication\": \"Publication_Year\"}, inplace=True)"
   ]
  },
  {
   "cell_type": "code",
   "execution_count": 54,
   "metadata": {},
   "outputs": [
    {
     "data": {
      "text/plain": [
       "0     647294\n",
       "8      91804\n",
       "10     71225\n",
       "7      66402\n",
       "9      60778\n",
       "5      45355\n",
       "6      31687\n",
       "4       7617\n",
       "3       5118\n",
       "2       2375\n",
       "1       1481\n",
       "Name: Rating, dtype: int64"
      ]
     },
     "execution_count": 54,
     "metadata": {},
     "output_type": "execute_result"
    }
   ],
   "source": [
    "merged_df1['Rating'].value_counts()"
   ]
  },
  {
   "cell_type": "markdown",
   "metadata": {},
   "source": [
    "Plot a graph showing book ratings and distribution of book ratings "
   ]
  },
  {
   "cell_type": "code",
   "execution_count": 55,
   "metadata": {},
   "outputs": [
    {
     "data": {
      "image/png": "[encoded data removed]",
      "text/plain": [
       "<Figure size 576x360 with 1 Axes>"
      ]
     },
     "metadata": {
      "needs_background": "light"
     },
     "output_type": "display_data"
    }
   ],
   "source": [
    "#Plot the graph\n",
    "plt.figure(figsize=(8, 5))\n",
    "sns.histplot(merged_df1['Rating'], bins=10, kde=False)\n",
    "\n",
    "plt.title('Distribution of Book Ratings')\n",
    "plt.xlabel('Book Rating')\n",
    "plt.ylabel('Count')\n",
    "plt.show()"
   ]
  },
  {
   "cell_type": "markdown",
   "metadata": {},
   "source": [
    "#### Explanation\n",
    "Many users rarely rated the books they have read making the rating of 0 dominant. This is a challenge and may skew the data.The other majority of ratings are concentrated in the higher range ratings of 8, 9, and 10, indicating that users tend to give positive ratings. There's a gradual decline in counts as ratings decrease from 10 to 1. Ratings between 1 and 4 are significantly less frequent, suggesting that users are less likely to give very low ratings."
   ]
  },
  {
   "cell_type": "markdown",
   "metadata": {},
   "source": [
    "### B. Most Common Authors\n",
    "This shows the most frequent authors in the dataset based on the number of books they have authored and may reflect author's popularity."
   ]
  },
  {
   "cell_type": "code",
   "execution_count": 59,
   "metadata": {},
   "outputs": [
    {
     "data": {
      "image/png": "[encoded data removed]",
      "text/plain": [
       "<Figure size 720x432 with 1 Axes>"
      ]
     },
     "metadata": {
      "needs_background": "light"
     },
     "output_type": "display_data"
    }
   ],
   "source": [
    "# Top 10 most frequent Authors\n",
    "top_authors = merged_df1['Author'].value_counts().head(10)\n",
    "\n",
    "# Plot for Top 10 Authors\n",
    "plt.figure(figsize=(10, 6))\n",
    "sns.barplot(x=top_authors.values, y=top_authors.index, palette='coolwarm')\n",
    "plt.title('Top 10 Most Frequent Authors')\n",
    "plt.xlabel('Number of Books')\n",
    "plt.ylabel('Book Author')\n",
    "plt.show()"
   ]
  },
  {
   "cell_type": "markdown",
   "metadata": {},
   "source": [
    "### Explanation\n",
    "Based on the graph above, Stephen King is the most frequent author in the dataset, with over 10,000 books while Janet Evanovich seems to be the least frequent authour from or graph. It gives a clear visual of how much more frequent Stephen King's books are compared to the rest, showing him as a highly prolific author in this dataset."
   ]
  },
  {
   "cell_type": "markdown",
   "metadata": {},
   "source": [
    "### C. Age distribution of USer"
   ]
  },
  {
   "cell_type": "code",
   "execution_count": 61,
   "metadata": {},
   "outputs": [
    {
     "data": {
      "text/plain": [
       "33.0    32862\n",
       "29.0    30646\n",
       "30.0    27201\n",
       "32.0    26490\n",
       "36.0    26096\n",
       "28.0    25966\n",
       "31.0    25964\n",
       "34.0    25893\n",
       "38.0    22396\n",
       "27.0    22280\n",
       "26.0    22107\n",
       "25.0    21768\n",
       "44.0    21510\n",
       "37.0    21116\n",
       "43.0    20612\n",
       "35.0    19573\n",
       "23.0    18793\n",
       "24.0    18572\n",
       "47.0    18517\n",
       "52.0    17637\n",
       "39.0    17002\n",
       "46.0    16345\n",
       "41.0    15900\n",
       "40.0    15521\n",
       "49.0    14345\n",
       "Name: Age, dtype: int64"
      ]
     },
     "execution_count": 61,
     "metadata": {},
     "output_type": "execute_result"
    }
   ],
   "source": [
    "#Top 25 most frequent user ages\n",
    "merged_df1['Age'].value_counts().head(25)"
   ]
  },
  {
   "cell_type": "code",
   "execution_count": 62,
   "metadata": {},
   "outputs": [
    {
     "data": {
      "text/plain": [
       "244.0"
      ]
     },
     "execution_count": 62,
     "metadata": {},
     "output_type": "execute_result"
    }
   ],
   "source": [
    "#Highest age of user \n",
    "merged_df1['Age'].max()"
   ]
  },
  {
   "cell_type": "markdown",
   "metadata": {},
   "source": [
    "It is doubtful though but true according to our data\n"
   ]
  },
  {
   "cell_type": "markdown",
   "metadata": {},
   "source": [
    "Find the mean, median of the users' age and plot a box plot and a normal bar graph for age and count"
   ]
  },
  {
   "cell_type": "code",
   "execution_count": 72,
   "metadata": {},
   "outputs": [
    {
     "name": "stdout",
     "output_type": "stream",
     "text": [
      "37.39764848314286\n",
      "35.0\n"
     ]
    }
   ],
   "source": [
    "mean_age = merged_df1['Age'].mean()\n",
    "median_age = merged_df1['Age'].median()\n",
    "print(mean_age)\n",
    "print(median_age)"
   ]
  },
  {
   "cell_type": "code",
   "execution_count": 76,
   "metadata": {},
   "outputs": [
    {
     "data": {
      "image/png": "[encoded data removed]",
      "text/plain": [
       "<Figure size 720x432 with 1 Axes>"
      ]
     },
     "metadata": {
      "needs_background": "light"
     },
     "output_type": "display_data"
    }
   ],
   "source": [
    "# Boxplot to visualize Age outliers\n",
    "plt.figure(figsize=(10, 6))\n",
    "sns.boxplot(x=merged_df1['Age'])\n",
    "plt.title('Boxplot of Age')\n",
    "plt.xlabel('Age')\n",
    "plt.show()"
   ]
  },
  {
   "cell_type": "code",
   "execution_count": 75,
   "metadata": {},
   "outputs": [
    {
     "data": {
      "image/png": "[encoded data removed]",
      "text/plain": [
       "<Figure size 720x432 with 1 Axes>"
      ]
     },
     "metadata": {
      "needs_background": "light"
     },
     "output_type": "display_data"
    }
   ],
   "source": [
    "# Plot Distribution of User Age\n",
    "plt.figure(figsize=(10, 6))\n",
    "sns.histplot(merged_df1['Age'], bins=20, kde=True)\n",
    "plt.axvline(mean_age, color='orange', linestyle='--', label=f'Mean Age: {mean_age:.2f}')\n",
    "plt.axvline(median_age, color='blue', linestyle='--', label=f'Median Age: {median_age:.2f}')\n",
    "plt.title('Distribution of User Age')\n",
    "plt.xlabel('Age')\n",
    "plt.legend()\n",
    "plt.show()"
   ]
  },
  {
   "cell_type": "markdown",
   "metadata": {},
   "source": [
    "\n",
    "The boxplot highlights a significant number of outliers indicating the need for data cleaning. Users with ages exceeding approximately 75 are flagged as potential outliers, suggesting there are abnormally high age values in the dataset. Values much higher than the median (around 29-33) extend far beyond the normal range of typical users.\n",
    "Based on the distributions above, majority of the users in the dataset lie between the age 18 to 60. The mean lies at 37 years while the median lies at 35 years suggesting majority of the users are near that age. \n",
    "The ages between 25 and 40 seem to dominate the dataset with the peak around ages 29-33, suggesting that most users are young to middle-aged adults. The age distribution covers a wide range from very low to very high values (up to 244 years). There's a long tail extending into the older age ranges, with small numbers of users listed as having ages greater than 100 indicating presence of outliers.\n",
    "\n"
   ]
  },
  {
   "cell_type": "markdown",
   "metadata": {},
   "source": [
    "### D. Top Publishers\n",
    "This shows the top publishers in the dataset which might influence or point on  publisher popularity."
   ]
  },
  {
   "cell_type": "code",
   "execution_count": 77,
   "metadata": {},
   "outputs": [
    {
     "data": {
      "text/plain": [
       "Ballantine Books            34724\n",
       "Pocket                      31989\n",
       "Berkley Publishing Group    28614\n",
       "Warner Books                25506\n",
       "Harlequin                   25027\n",
       "Bantam Books                23598\n",
       "Bantam                      20007\n",
       "Signet Book                 19155\n",
       "Avon                        17352\n",
       "Penguin Books               17033\n",
       "Name: Publisher, dtype: int64"
      ]
     },
     "execution_count": 77,
     "metadata": {},
     "output_type": "execute_result"
    }
   ],
   "source": [
    "top_publishers = merged_df1['Publisher'].value_counts().head(10)\n",
    "top_publishers"
   ]
  },
  {
   "cell_type": "code",
   "execution_count": 79,
   "metadata": {},
   "outputs": [
    {
     "data": {
      "image/png": "[encoded data removed]",
      "text/plain": [
       "<Figure size 720x432 with 1 Axes>"
      ]
     },
     "metadata": {
      "needs_background": "light"
     },
     "output_type": "display_data"
    }
   ],
   "source": [
    "# Top 5 most frequent Publishers\n",
    "top_publishers = merged_df1['Publisher'].value_counts().head(5)\n",
    "\n",
    "# Plot for Top 5 Publishers\n",
    "plt.figure(figsize=(10, 6))\n",
    "sns.barplot(x=top_publishers.values, y=top_publishers.index, palette='viridis')\n",
    "plt.title('Top 5 Most Frequent Publishers')\n",
    "plt.xlabel('Number of Books Published')\n",
    "plt.ylabel('Publisher')\n",
    "plt.show()"
   ]
  },
  {
   "cell_type": "markdown",
   "metadata": {},
   "source": [
    "#### \n",
    "Based on the graph above,Ballantine Books is the most frequent publisher, with over 34,000 books published, followed by Pocket. Other prominent publishers include Berkley Publishing Group, Warner Books, and Harlequin, with over 25,000 books each. "
   ]
  },
  {
   "cell_type": "markdown",
   "metadata": {},
   "source": [
    "## II. Bivariate Analysis"
   ]
  },
  {
   "cell_type": "markdown",
   "metadata": {},
   "source": [
    "#### A. Book Rating vs User age\n",
    "Explores the relationship between user age and the ratings they give to books."
   ]
  },
  {
   "cell_type": "code",
   "execution_count": 80,
   "metadata": {},
   "outputs": [
    {
     "data": {
      "text/html": [
       "<div>\n",
       "<style scoped>\n",
       "    .dataframe tbody tr th:only-of-type {\n",
       "        vertical-align: middle;\n",
       "    }\n",
       "\n",
       "    .dataframe tbody tr th {\n",
       "        vertical-align: top;\n",
       "    }\n",
       "\n",
       "    .dataframe thead th {\n",
       "        text-align: right;\n",
       "    }\n",
       "</style>\n",
       "<table border=\"1\" class=\"dataframe\">\n",
       "  <thead>\n",
       "    <tr style=\"text-align: right;\">\n",
       "      <th></th>\n",
       "      <th>Age</th>\n",
       "      <th>Average Book-Rating</th>\n",
       "    </tr>\n",
       "  </thead>\n",
       "  <tbody>\n",
       "    <tr>\n",
       "      <th>0</th>\n",
       "      <td>0.0</td>\n",
       "      <td>2.859180</td>\n",
       "    </tr>\n",
       "    <tr>\n",
       "      <th>1</th>\n",
       "      <td>1.0</td>\n",
       "      <td>3.464953</td>\n",
       "    </tr>\n",
       "    <tr>\n",
       "      <th>2</th>\n",
       "      <td>2.0</td>\n",
       "      <td>4.214953</td>\n",
       "    </tr>\n",
       "    <tr>\n",
       "      <th>3</th>\n",
       "      <td>3.0</td>\n",
       "      <td>4.923077</td>\n",
       "    </tr>\n",
       "    <tr>\n",
       "      <th>4</th>\n",
       "      <td>4.0</td>\n",
       "      <td>4.630996</td>\n",
       "    </tr>\n",
       "    <tr>\n",
       "      <th>...</th>\n",
       "      <td>...</td>\n",
       "      <td>...</td>\n",
       "    </tr>\n",
       "    <tr>\n",
       "      <th>136</th>\n",
       "      <td>228.0</td>\n",
       "      <td>0.492063</td>\n",
       "    </tr>\n",
       "    <tr>\n",
       "      <th>137</th>\n",
       "      <td>229.0</td>\n",
       "      <td>2.000000</td>\n",
       "    </tr>\n",
       "    <tr>\n",
       "      <th>138</th>\n",
       "      <td>237.0</td>\n",
       "      <td>3.333333</td>\n",
       "    </tr>\n",
       "    <tr>\n",
       "      <th>139</th>\n",
       "      <td>239.0</td>\n",
       "      <td>2.206897</td>\n",
       "    </tr>\n",
       "    <tr>\n",
       "      <th>140</th>\n",
       "      <td>244.0</td>\n",
       "      <td>3.142857</td>\n",
       "    </tr>\n",
       "  </tbody>\n",
       "</table>\n",
       "<p>141 rows × 2 columns</p>\n",
       "</div>"
      ],
      "text/plain": [
       "       Age  Average Book-Rating\n",
       "0      0.0             2.859180\n",
       "1      1.0             3.464953\n",
       "2      2.0             4.214953\n",
       "3      3.0             4.923077\n",
       "4      4.0             4.630996\n",
       "..     ...                  ...\n",
       "136  228.0             0.492063\n",
       "137  229.0             2.000000\n",
       "138  237.0             3.333333\n",
       "139  239.0             2.206897\n",
       "140  244.0             3.142857\n",
       "\n",
       "[141 rows x 2 columns]"
      ]
     },
     "execution_count": 80,
     "metadata": {},
     "output_type": "execute_result"
    }
   ],
   "source": [
    "# Group by 'Age' and calculate the average 'Book-Rating'\n",
    "average_rating_by_age = merged_df1.groupby('Age')['Rating'].mean().reset_index()\n",
    "\n",
    "# Rename the columns\n",
    "average_rating_by_age.columns = ['Age', 'Average Book-Rating']\n",
    "average_rating_by_age"
   ]
  },
  {
   "cell_type": "code",
   "execution_count": 83,
   "metadata": {},
   "outputs": [
    {
     "data": {
      "image/png": "[encoded data removed]",
      "text/plain": [
       "<Figure size 864x432 with 1 Axes>"
      ]
     },
     "metadata": {
      "needs_background": "light"
     },
     "output_type": "display_data"
    }
   ],
   "source": [
    "#Plot a Scatter plot of Book-Rating vs Age\n",
    "plt.figure(figsize=(12, 6))\n",
    "sns.scatterplot(x=merged_df1['Age'], y=merged_df1['Rating'])\n",
    "plt.title('Scatter Plot of Age vs Book-Rating')\n",
    "plt.xlabel('Age')\n",
    "plt.ylabel('Book-Rating')\n",
    "plt.show()\n"
   ]
  },
  {
   "cell_type": "markdown",
   "metadata": {},
   "source": [
    "\n",
    "The scatterplot reveals the distribution of ratings based on user age. Users between 0 to approximately 90 years are densely distributed throughout the ratings. The presence of outliers may influence the observations made as the age is seen to range from 0 up to 244 years."
   ]
  },
  {
   "cell_type": "markdown",
   "metadata": {},
   "source": [
    "### B. Publisher vs. Average Book Rating\n",
    "This examines whether certain publishers consistently publish books that receive higher ratings."
   ]
  },
  {
   "cell_type": "code",
   "execution_count": 87,
   "metadata": {},
   "outputs": [
    {
     "data": {
      "text/html": [
       "<div>\n",
       "<style scoped>\n",
       "    .dataframe tbody tr th:only-of-type {\n",
       "        vertical-align: middle;\n",
       "    }\n",
       "\n",
       "    .dataframe tbody tr th {\n",
       "        vertical-align: top;\n",
       "    }\n",
       "\n",
       "    .dataframe thead th {\n",
       "        text-align: right;\n",
       "    }\n",
       "</style>\n",
       "<table border=\"1\" class=\"dataframe\">\n",
       "  <thead>\n",
       "    <tr style=\"text-align: right;\">\n",
       "      <th></th>\n",
       "      <th>Publisher</th>\n",
       "      <th>Rating</th>\n",
       "    </tr>\n",
       "  </thead>\n",
       "  <tbody>\n",
       "    <tr>\n",
       "      <th>0</th>\n",
       "      <td>Editions P. Terrail</td>\n",
       "      <td>10.0</td>\n",
       "    </tr>\n",
       "    <tr>\n",
       "      <th>1</th>\n",
       "      <td>Family CareWare, Inc.</td>\n",
       "      <td>10.0</td>\n",
       "    </tr>\n",
       "    <tr>\n",
       "      <th>2</th>\n",
       "      <td>Koehler &amp;amp; Amelang Verlag MÃ?Â¼nchen Berlin</td>\n",
       "      <td>10.0</td>\n",
       "    </tr>\n",
       "    <tr>\n",
       "      <th>3</th>\n",
       "      <td>Koenisha Publications</td>\n",
       "      <td>10.0</td>\n",
       "    </tr>\n",
       "    <tr>\n",
       "      <th>4</th>\n",
       "      <td>Fandata Computer Services</td>\n",
       "      <td>10.0</td>\n",
       "    </tr>\n",
       "    <tr>\n",
       "      <th>5</th>\n",
       "      <td>Kristina DeVary</td>\n",
       "      <td>10.0</td>\n",
       "    </tr>\n",
       "    <tr>\n",
       "      <th>6</th>\n",
       "      <td>Crazy Pet Press</td>\n",
       "      <td>10.0</td>\n",
       "    </tr>\n",
       "    <tr>\n",
       "      <th>7</th>\n",
       "      <td>Stabur Pr</td>\n",
       "      <td>10.0</td>\n",
       "    </tr>\n",
       "    <tr>\n",
       "      <th>8</th>\n",
       "      <td>St.Martin's</td>\n",
       "      <td>10.0</td>\n",
       "    </tr>\n",
       "    <tr>\n",
       "      <th>9</th>\n",
       "      <td>KnÃ¶dler</td>\n",
       "      <td>10.0</td>\n",
       "    </tr>\n",
       "  </tbody>\n",
       "</table>\n",
       "</div>"
      ],
      "text/plain": [
       "                                        Publisher  Rating\n",
       "0                             Editions P. Terrail    10.0\n",
       "1                           Family CareWare, Inc.    10.0\n",
       "2  Koehler &amp; Amelang Verlag MÃ?Â¼nchen Berlin    10.0\n",
       "3                           Koenisha Publications    10.0\n",
       "4                       Fandata Computer Services    10.0\n",
       "5                                 Kristina DeVary    10.0\n",
       "6                                 Crazy Pet Press    10.0\n",
       "7                                       Stabur Pr    10.0\n",
       "8                                     St.Martin's    10.0\n",
       "9                                        KnÃ¶dler    10.0"
      ]
     },
     "execution_count": 87,
     "metadata": {},
     "output_type": "execute_result"
    }
   ],
   "source": [
    "avg_ratings_publisher = merged_df1.groupby('Publisher')['Rating'].mean().sort_values(ascending=False).reset_index()\n",
    "avg_ratings_publisher.head(10)"
   ]
  },
  {
   "cell_type": "code",
   "execution_count": 89,
   "metadata": {},
   "outputs": [
    {
     "data": {
      "image/png": "[encoded data removed]",
      "text/plain": [
       "<Figure size 864x432 with 1 Axes>"
      ]
     },
     "metadata": {
      "needs_background": "light"
     },
     "output_type": "display_data"
    }
   ],
   "source": [
    "#Plot the graph\n",
    "# Define a custom color palette\n",
    "colors = sns.color_palette(\"crest\", len(avg_ratings_publisher.head(10)))\n",
    "\n",
    "plt.figure(figsize=(12, 6))\n",
    "sns.barplot(x='Publisher', y='Rating', data=avg_ratings_publisher.head(10), palette='magma')\n",
    "plt.xticks(rotation=90)\n",
    "plt.title('Top 10 Publishers by Average Book Rating')\n",
    "plt.xlabel('Publisher')\n",
    "plt.ylabel('Average Book Rating')\n",
    "plt.show()"
   ]
  },
  {
   "cell_type": "markdown",
   "metadata": {},
   "source": [
    "\n",
    "The bar plot visually shows that all publishers in the top 10 have achieved a 10.0 average rating. The publishers could be from a diverse range of industries, from mainstream to niche publishing houses.In the analysis, books published by these top-rated publishers could be prominently featured in recommendation system for users who are likely to appreciate such content.Knowing which publishers consistently produce high-rated books allows for targeted advertising strategies, particularly for niche books that may attract specific types of readers. \n"
   ]
  },
  {
   "cell_type": "markdown",
   "metadata": {},
   "source": [
    "### C. Book Author vs. Average Book Rating\n",
    "This helps determine which authors tend to receive higher or lower average ratings."
   ]
  },
  {
   "cell_type": "code",
   "execution_count": 92,
   "metadata": {},
   "outputs": [
    {
     "data": {
      "text/html": [
       "<div>\n",
       "<style scoped>\n",
       "    .dataframe tbody tr th:only-of-type {\n",
       "        vertical-align: middle;\n",
       "    }\n",
       "\n",
       "    .dataframe tbody tr th {\n",
       "        vertical-align: top;\n",
       "    }\n",
       "\n",
       "    .dataframe thead th {\n",
       "        text-align: right;\n",
       "    }\n",
       "</style>\n",
       "<table border=\"1\" class=\"dataframe\">\n",
       "  <thead>\n",
       "    <tr style=\"text-align: right;\">\n",
       "      <th></th>\n",
       "      <th>Author</th>\n",
       "      <th>Rating</th>\n",
       "    </tr>\n",
       "  </thead>\n",
       "  <tbody>\n",
       "    <tr>\n",
       "      <th>0</th>\n",
       "      <td>Cev Abs</td>\n",
       "      <td>10.0</td>\n",
       "    </tr>\n",
       "    <tr>\n",
       "      <th>1</th>\n",
       "      <td>Mitchell Ivers</td>\n",
       "      <td>10.0</td>\n",
       "    </tr>\n",
       "    <tr>\n",
       "      <th>2</th>\n",
       "      <td>The Mayo Clinic</td>\n",
       "      <td>10.0</td>\n",
       "    </tr>\n",
       "    <tr>\n",
       "      <th>3</th>\n",
       "      <td>Moira Huntley</td>\n",
       "      <td>10.0</td>\n",
       "    </tr>\n",
       "    <tr>\n",
       "      <th>4</th>\n",
       "      <td>Moira Anderson Allen</td>\n",
       "      <td>10.0</td>\n",
       "    </tr>\n",
       "    <tr>\n",
       "      <th>5</th>\n",
       "      <td>Denis Tillinac</td>\n",
       "      <td>10.0</td>\n",
       "    </tr>\n",
       "    <tr>\n",
       "      <th>6</th>\n",
       "      <td>Elizabeth Appell</td>\n",
       "      <td>10.0</td>\n",
       "    </tr>\n",
       "    <tr>\n",
       "      <th>7</th>\n",
       "      <td>Samantha Hunter</td>\n",
       "      <td>10.0</td>\n",
       "    </tr>\n",
       "    <tr>\n",
       "      <th>8</th>\n",
       "      <td>Gail Pheterson</td>\n",
       "      <td>10.0</td>\n",
       "    </tr>\n",
       "    <tr>\n",
       "      <th>9</th>\n",
       "      <td>CHARLOTTE BRONTE</td>\n",
       "      <td>10.0</td>\n",
       "    </tr>\n",
       "  </tbody>\n",
       "</table>\n",
       "</div>"
      ],
      "text/plain": [
       "                 Author  Rating\n",
       "0               Cev Abs    10.0\n",
       "1        Mitchell Ivers    10.0\n",
       "2       The Mayo Clinic    10.0\n",
       "3         Moira Huntley    10.0\n",
       "4  Moira Anderson Allen    10.0\n",
       "5        Denis Tillinac    10.0\n",
       "6      Elizabeth Appell    10.0\n",
       "7       Samantha Hunter    10.0\n",
       "8        Gail Pheterson    10.0\n",
       "9      CHARLOTTE BRONTE    10.0"
      ]
     },
     "execution_count": 92,
     "metadata": {},
     "output_type": "execute_result"
    }
   ],
   "source": [
    "avg_ratings_author = merged_df1.groupby('Author')['Rating'].mean().sort_values(ascending=False).reset_index()\n",
    "avg_ratings_author.head(10)"
   ]
  },
  {
   "cell_type": "code",
   "execution_count": 97,
   "metadata": {},
   "outputs": [
    {
     "data": {
      "image/png": "[encoded data removed]",
      "text/plain": [
       "<Figure size 864x432 with 1 Axes>"
      ]
     },
     "metadata": {
      "needs_background": "light"
     },
     "output_type": "display_data"
    }
   ],
   "source": [
    "# Define a custom color palette\n",
    "colors = sns.color_palette(\"crest\", len(avg_ratings_author.head(10)))\n",
    "\n",
    "#Plot the distribution\n",
    "plt.figure(figsize=(12, 6))\n",
    "sns.barplot(x='Author', y='Rating', data=avg_ratings_author.head(10), palette='viridis')#Get top 10 authors\n",
    "plt.xticks(rotation=90)\n",
    "plt.title('Top 10 Authors by Average Book Rating')\n",
    "plt.xlabel('Book Author')\n",
    "plt.ylabel('Average Book Rating')\n",
    "plt.show()"
   ]
  },
  {
   "cell_type": "markdown",
   "metadata": {},
   "source": [
    "\n",
    "All of the listed authors have a perfect rating of 10.0, indicating that their books have been highly rated by users.  Based on the plot we can assume that these authors are highly favored by their readers. The perfect ratings could be due to low rating count or a niche audience.\n",
    "Books from these highly-rated authors could be prioritized in recommendation systems, especially for users who enjoy similar types of content or genres."
   ]
  },
  {
   "cell_type": "markdown",
   "metadata": {},
   "source": [
    "### D. Age vs. Publisher Preference\n",
    "This analysis helps potray if users of certain age groups prefer books from specific publishers."
   ]
  },
  {
   "cell_type": "code",
   "execution_count": 96,
   "metadata": {},
   "outputs": [
    {
     "data": {
      "text/html": [
       "<div>\n",
       "<style scoped>\n",
       "    .dataframe tbody tr th:only-of-type {\n",
       "        vertical-align: middle;\n",
       "    }\n",
       "\n",
       "    .dataframe tbody tr th {\n",
       "        vertical-align: top;\n",
       "    }\n",
       "\n",
       "    .dataframe thead th {\n",
       "        text-align: right;\n",
       "    }\n",
       "</style>\n",
       "<table border=\"1\" class=\"dataframe\">\n",
       "  <thead>\n",
       "    <tr style=\"text-align: right;\">\n",
       "      <th></th>\n",
       "      <th>Age</th>\n",
       "      <th>Publisher</th>\n",
       "      <th>Rating</th>\n",
       "    </tr>\n",
       "  </thead>\n",
       "  <tbody>\n",
       "    <tr>\n",
       "      <th>0</th>\n",
       "      <td>27.0</td>\n",
       "      <td>Family CareWare, Inc.</td>\n",
       "      <td>10</td>\n",
       "    </tr>\n",
       "    <tr>\n",
       "      <th>1</th>\n",
       "      <td>28.0</td>\n",
       "      <td>Kristina DeVary</td>\n",
       "      <td>10</td>\n",
       "    </tr>\n",
       "    <tr>\n",
       "      <th>2</th>\n",
       "      <td>28.0</td>\n",
       "      <td>Stabur Pr</td>\n",
       "      <td>10</td>\n",
       "    </tr>\n",
       "    <tr>\n",
       "      <th>3</th>\n",
       "      <td>34.0</td>\n",
       "      <td>Fandata Computer Services</td>\n",
       "      <td>10</td>\n",
       "    </tr>\n",
       "    <tr>\n",
       "      <th>4</th>\n",
       "      <td>34.0</td>\n",
       "      <td>Koenisha Publications</td>\n",
       "      <td>10</td>\n",
       "    </tr>\n",
       "    <tr>\n",
       "      <th>5</th>\n",
       "      <td>37.0</td>\n",
       "      <td>Crazy Pet Press</td>\n",
       "      <td>10</td>\n",
       "    </tr>\n",
       "    <tr>\n",
       "      <th>6</th>\n",
       "      <td>43.0</td>\n",
       "      <td>St.Martin's</td>\n",
       "      <td>10</td>\n",
       "    </tr>\n",
       "    <tr>\n",
       "      <th>7</th>\n",
       "      <td>46.0</td>\n",
       "      <td>St. Anthony Messenger P, US</td>\n",
       "      <td>10</td>\n",
       "    </tr>\n",
       "    <tr>\n",
       "      <th>8</th>\n",
       "      <td>48.0</td>\n",
       "      <td>Fallen Leaf Press</td>\n",
       "      <td>10</td>\n",
       "    </tr>\n",
       "    <tr>\n",
       "      <th>9</th>\n",
       "      <td>53.0</td>\n",
       "      <td>Kristina DeVary</td>\n",
       "      <td>10</td>\n",
       "    </tr>\n",
       "    <tr>\n",
       "      <th>10</th>\n",
       "      <td>56.0</td>\n",
       "      <td>Editions P. Terrail</td>\n",
       "      <td>10</td>\n",
       "    </tr>\n",
       "    <tr>\n",
       "      <th>11</th>\n",
       "      <td>56.0</td>\n",
       "      <td>L'Aire</td>\n",
       "      <td>10</td>\n",
       "    </tr>\n",
       "    <tr>\n",
       "      <th>12</th>\n",
       "      <td>63.0</td>\n",
       "      <td>L. King</td>\n",
       "      <td>10</td>\n",
       "    </tr>\n",
       "    <tr>\n",
       "      <th>13</th>\n",
       "      <td>64.0</td>\n",
       "      <td>Kristina DeVary</td>\n",
       "      <td>10</td>\n",
       "    </tr>\n",
       "  </tbody>\n",
       "</table>\n",
       "</div>"
      ],
      "text/plain": [
       "     Age                    Publisher  Rating\n",
       "0   27.0        Family CareWare, Inc.      10\n",
       "1   28.0              Kristina DeVary      10\n",
       "2   28.0                    Stabur Pr      10\n",
       "3   34.0    Fandata Computer Services      10\n",
       "4   34.0        Koenisha Publications      10\n",
       "5   37.0              Crazy Pet Press      10\n",
       "6   43.0                  St.Martin's      10\n",
       "7   46.0  St. Anthony Messenger P, US      10\n",
       "8   48.0            Fallen Leaf Press      10\n",
       "9   53.0              Kristina DeVary      10\n",
       "10  56.0          Editions P. Terrail      10\n",
       "11  56.0                       L'Aire      10\n",
       "12  63.0                      L. King      10\n",
       "13  64.0              Kristina DeVary      10"
      ]
     },
     "execution_count": 96,
     "metadata": {},
     "output_type": "execute_result"
    }
   ],
   "source": [
    "# Group by Publisher to get the average rating\n",
    "avg_ratings_publisher = merged_df1.groupby('Publisher')['Rating'].mean().sort_values(ascending=False).reset_index()\n",
    "\n",
    "# Select the top 15 publishers with the highest ratings\n",
    "top_15_publishers = avg_ratings_publisher.head(15)\n",
    "\n",
    "# Filter the merged_df1 dataset to only include the top 15 publishers\n",
    "top_publishers_data = merged_df1[merged_df1['Publisher'].isin(top_15_publishers['Publisher'])]\n",
    "\n",
    "# Group the data by Age and Publisher to calculate the average Book-Rating for each Age-Publisher combination\n",
    "publisher_pref_by_age = top_publishers_data.groupby(['Age', 'Publisher'])['Rating'].mean().reset_index()\n",
    "publisher_pref_by_age"
   ]
  },
  {
   "cell_type": "code",
   "execution_count": 99,
   "metadata": {},
   "outputs": [
    {
     "data": {
      "image/png": "[encoded data removed]",
      "text/plain": [
       "<Figure size 864x432 with 2 Axes>"
      ]
     },
     "metadata": {
      "needs_background": "light"
     },
     "output_type": "display_data"
    }
   ],
   "source": [
    "# Create the pivot table for the heatmap\n",
    "pivot_table = publisher_pref_by_age.pivot(index='Age', columns='Publisher', values='Rating')\n",
    "\n",
    "# Plot the heatmap\n",
    "plt.figure(figsize=(12, 6))\n",
    "sns.heatmap(pivot_table, cmap='plasma', annot=False)\n",
    "plt.title('Publisher Preference by Age Group (Top 15 Publishers)')\n",
    "plt.xlabel('Publisher')\n",
    "plt.ylabel('Age')\n",
    "plt.xticks(rotation=90)\n",
    "plt.show()"
   ]
  },
  {
   "cell_type": "markdown",
   "metadata": {},
   "source": [
    "\n",
    "The plot shows users ranging from 27 to 64 years. Some publishers may appeal more to younger readers, while others resonate with older audiences.Having a high concentration of ratings for certain publishers in specific age groups may indicate that those publishers focus on age-targeted content. The consistent high ratings across various age groups suggest that the books from these publishers have a wide appeal and are well-received by readers of different ages. If some publishers have more ratings across different age groups, it can indicate they have a broader market reach or are more popular among various demographics.\n",
    "\n"
   ]
  },
  {
   "cell_type": "markdown",
   "metadata": {},
   "source": [
    "### E. Year of Publication vs. Average Book Rating\n",
    "Analyzes the appeal of readers in terms of whether older books or more recent publications tend to receive higher ratings.\n"
   ]
  },
  {
   "cell_type": "code",
   "execution_count": 100,
   "metadata": {},
   "outputs": [
    {
     "data": {
      "text/html": [
       "<div>\n",
       "<style scoped>\n",
       "    .dataframe tbody tr th:only-of-type {\n",
       "        vertical-align: middle;\n",
       "    }\n",
       "\n",
       "    .dataframe tbody tr th {\n",
       "        vertical-align: top;\n",
       "    }\n",
       "\n",
       "    .dataframe thead th {\n",
       "        text-align: right;\n",
       "    }\n",
       "</style>\n",
       "<table border=\"1\" class=\"dataframe\">\n",
       "  <thead>\n",
       "    <tr style=\"text-align: right;\">\n",
       "      <th></th>\n",
       "      <th>Publication_Year</th>\n",
       "      <th>Rating</th>\n",
       "    </tr>\n",
       "  </thead>\n",
       "  <tbody>\n",
       "    <tr>\n",
       "      <th>0</th>\n",
       "      <td>0</td>\n",
       "      <td>3.132415</td>\n",
       "    </tr>\n",
       "    <tr>\n",
       "      <th>1</th>\n",
       "      <td>1376</td>\n",
       "      <td>4.000000</td>\n",
       "    </tr>\n",
       "    <tr>\n",
       "      <th>2</th>\n",
       "      <td>1378</td>\n",
       "      <td>10.000000</td>\n",
       "    </tr>\n",
       "    <tr>\n",
       "      <th>3</th>\n",
       "      <td>1806</td>\n",
       "      <td>5.000000</td>\n",
       "    </tr>\n",
       "    <tr>\n",
       "      <th>4</th>\n",
       "      <td>1897</td>\n",
       "      <td>0.000000</td>\n",
       "    </tr>\n",
       "    <tr>\n",
       "      <th>...</th>\n",
       "      <td>...</td>\n",
       "      <td>...</td>\n",
       "    </tr>\n",
       "    <tr>\n",
       "      <th>113</th>\n",
       "      <td>2037</td>\n",
       "      <td>10.000000</td>\n",
       "    </tr>\n",
       "    <tr>\n",
       "      <th>114</th>\n",
       "      <td>2038</td>\n",
       "      <td>2.375000</td>\n",
       "    </tr>\n",
       "    <tr>\n",
       "      <th>115</th>\n",
       "      <td>2050</td>\n",
       "      <td>4.857143</td>\n",
       "    </tr>\n",
       "    <tr>\n",
       "      <th>116</th>\n",
       "      <td>DK Publishing Inc</td>\n",
       "      <td>2.333333</td>\n",
       "    </tr>\n",
       "    <tr>\n",
       "      <th>117</th>\n",
       "      <td>Gallimard</td>\n",
       "      <td>0.000000</td>\n",
       "    </tr>\n",
       "  </tbody>\n",
       "</table>\n",
       "<p>118 rows × 2 columns</p>\n",
       "</div>"
      ],
      "text/plain": [
       "      Publication_Year     Rating\n",
       "0                    0   3.132415\n",
       "1                 1376   4.000000\n",
       "2                 1378  10.000000\n",
       "3                 1806   5.000000\n",
       "4                 1897   0.000000\n",
       "..                 ...        ...\n",
       "113               2037  10.000000\n",
       "114               2038   2.375000\n",
       "115               2050   4.857143\n",
       "116  DK Publishing Inc   2.333333\n",
       "117          Gallimard   0.000000\n",
       "\n",
       "[118 rows x 2 columns]"
      ]
     },
     "execution_count": 100,
     "metadata": {},
     "output_type": "execute_result"
    }
   ],
   "source": [
    "avg_ratings_year = merged_df1.groupby('Publication_Year')['Rating'].mean().reset_index()\n",
    "avg_ratings_year"
   ]
  },
  {
   "cell_type": "code",
   "execution_count": 103,
   "metadata": {},
   "outputs": [
    {
     "data": {
      "text/html": [
       "<div>\n",
       "<style scoped>\n",
       "    .dataframe tbody tr th:only-of-type {\n",
       "        vertical-align: middle;\n",
       "    }\n",
       "\n",
       "    .dataframe tbody tr th {\n",
       "        vertical-align: top;\n",
       "    }\n",
       "\n",
       "    .dataframe thead th {\n",
       "        text-align: right;\n",
       "    }\n",
       "</style>\n",
       "<table border=\"1\" class=\"dataframe\">\n",
       "  <thead>\n",
       "    <tr style=\"text-align: right;\">\n",
       "      <th></th>\n",
       "      <th>Publication_Year</th>\n",
       "      <th>Rating</th>\n",
       "    </tr>\n",
       "  </thead>\n",
       "  <tbody>\n",
       "    <tr>\n",
       "      <th>1</th>\n",
       "      <td>1376</td>\n",
       "      <td>4.000000</td>\n",
       "    </tr>\n",
       "    <tr>\n",
       "      <th>2</th>\n",
       "      <td>1378</td>\n",
       "      <td>10.000000</td>\n",
       "    </tr>\n",
       "    <tr>\n",
       "      <th>3</th>\n",
       "      <td>1806</td>\n",
       "      <td>5.000000</td>\n",
       "    </tr>\n",
       "    <tr>\n",
       "      <th>6</th>\n",
       "      <td>1901</td>\n",
       "      <td>4.571429</td>\n",
       "    </tr>\n",
       "    <tr>\n",
       "      <th>8</th>\n",
       "      <td>1904</td>\n",
       "      <td>10.000000</td>\n",
       "    </tr>\n",
       "    <tr>\n",
       "      <th>9</th>\n",
       "      <td>1906</td>\n",
       "      <td>5.000000</td>\n",
       "    </tr>\n",
       "    <tr>\n",
       "      <th>10</th>\n",
       "      <td>1908</td>\n",
       "      <td>10.000000</td>\n",
       "    </tr>\n",
       "    <tr>\n",
       "      <th>22</th>\n",
       "      <td>1925</td>\n",
       "      <td>3.600000</td>\n",
       "    </tr>\n",
       "    <tr>\n",
       "      <th>26</th>\n",
       "      <td>1929</td>\n",
       "      <td>4.041667</td>\n",
       "    </tr>\n",
       "    <tr>\n",
       "      <th>27</th>\n",
       "      <td>1930</td>\n",
       "      <td>3.955224</td>\n",
       "    </tr>\n",
       "    <tr>\n",
       "      <th>28</th>\n",
       "      <td>1931</td>\n",
       "      <td>4.000000</td>\n",
       "    </tr>\n",
       "    <tr>\n",
       "      <th>31</th>\n",
       "      <td>1934</td>\n",
       "      <td>5.000000</td>\n",
       "    </tr>\n",
       "    <tr>\n",
       "      <th>32</th>\n",
       "      <td>1935</td>\n",
       "      <td>4.333333</td>\n",
       "    </tr>\n",
       "    <tr>\n",
       "      <th>33</th>\n",
       "      <td>1936</td>\n",
       "      <td>4.400000</td>\n",
       "    </tr>\n",
       "    <tr>\n",
       "      <th>35</th>\n",
       "      <td>1938</td>\n",
       "      <td>6.312500</td>\n",
       "    </tr>\n",
       "    <tr>\n",
       "      <th>36</th>\n",
       "      <td>1939</td>\n",
       "      <td>4.300000</td>\n",
       "    </tr>\n",
       "    <tr>\n",
       "      <th>41</th>\n",
       "      <td>1944</td>\n",
       "      <td>3.750000</td>\n",
       "    </tr>\n",
       "    <tr>\n",
       "      <th>42</th>\n",
       "      <td>1945</td>\n",
       "      <td>4.074074</td>\n",
       "    </tr>\n",
       "    <tr>\n",
       "      <th>43</th>\n",
       "      <td>1946</td>\n",
       "      <td>4.063830</td>\n",
       "    </tr>\n",
       "    <tr>\n",
       "      <th>45</th>\n",
       "      <td>1948</td>\n",
       "      <td>4.913043</td>\n",
       "    </tr>\n",
       "    <tr>\n",
       "      <th>46</th>\n",
       "      <td>1949</td>\n",
       "      <td>4.714286</td>\n",
       "    </tr>\n",
       "    <tr>\n",
       "      <th>49</th>\n",
       "      <td>1952</td>\n",
       "      <td>4.556962</td>\n",
       "    </tr>\n",
       "    <tr>\n",
       "      <th>50</th>\n",
       "      <td>1953</td>\n",
       "      <td>3.611830</td>\n",
       "    </tr>\n",
       "    <tr>\n",
       "      <th>54</th>\n",
       "      <td>1957</td>\n",
       "      <td>3.872587</td>\n",
       "    </tr>\n",
       "    <tr>\n",
       "      <th>60</th>\n",
       "      <td>1963</td>\n",
       "      <td>3.509434</td>\n",
       "    </tr>\n",
       "    <tr>\n",
       "      <th>105</th>\n",
       "      <td>2010</td>\n",
       "      <td>4.250000</td>\n",
       "    </tr>\n",
       "    <tr>\n",
       "      <th>109</th>\n",
       "      <td>2021</td>\n",
       "      <td>5.333333</td>\n",
       "    </tr>\n",
       "    <tr>\n",
       "      <th>111</th>\n",
       "      <td>2026</td>\n",
       "      <td>4.800000</td>\n",
       "    </tr>\n",
       "    <tr>\n",
       "      <th>113</th>\n",
       "      <td>2037</td>\n",
       "      <td>10.000000</td>\n",
       "    </tr>\n",
       "    <tr>\n",
       "      <th>115</th>\n",
       "      <td>2050</td>\n",
       "      <td>4.857143</td>\n",
       "    </tr>\n",
       "  </tbody>\n",
       "</table>\n",
       "</div>"
      ],
      "text/plain": [
       "    Publication_Year     Rating\n",
       "1               1376   4.000000\n",
       "2               1378  10.000000\n",
       "3               1806   5.000000\n",
       "6               1901   4.571429\n",
       "8               1904  10.000000\n",
       "9               1906   5.000000\n",
       "10              1908  10.000000\n",
       "22              1925   3.600000\n",
       "26              1929   4.041667\n",
       "27              1930   3.955224\n",
       "28              1931   4.000000\n",
       "31              1934   5.000000\n",
       "32              1935   4.333333\n",
       "33              1936   4.400000\n",
       "35              1938   6.312500\n",
       "36              1939   4.300000\n",
       "41              1944   3.750000\n",
       "42              1945   4.074074\n",
       "43              1946   4.063830\n",
       "45              1948   4.913043\n",
       "46              1949   4.714286\n",
       "49              1952   4.556962\n",
       "50              1953   3.611830\n",
       "54              1957   3.872587\n",
       "60              1963   3.509434\n",
       "105             2010   4.250000\n",
       "109             2021   5.333333\n",
       "111             2026   4.800000\n",
       "113             2037  10.000000\n",
       "115             2050   4.857143"
      ]
     },
     "execution_count": 103,
     "metadata": {},
     "output_type": "execute_result"
    }
   ],
   "source": [
    "# Get the 75th percentile rating\n",
    "top_ratings_threshold = avg_ratings_year['Rating'].quantile(0.75)  \n",
    "top_ratings_year = avg_ratings_year[avg_ratings_year['Rating'] >= top_ratings_threshold]#to get years with top ratings\n",
    "top_ratings_year"
   ]
  },
  {
   "cell_type": "code",
   "execution_count": 112,
   "metadata": {},
   "outputs": [
    {
     "data": {
      "image/png": "[encoded data removed]",
      "text/plain": [
       "<Figure size 720x432 with 1 Axes>"
      ]
     },
     "metadata": {
      "needs_background": "light"
     },
     "output_type": "display_data"
    }
   ],
   "source": [
    "# Plot the graph for top ratings\n",
    "plt.figure(figsize=(10, 6))\n",
    "sns.lineplot(x='Publication_Year', y='Rating', data=top_ratings_year, marker='o')  # Adding markers for clarity\n",
    "plt.title('Years with Top Average Book Ratings')\n",
    "plt.xlabel('Year')\n",
    "plt.ylabel('Average Book Rating')\n",
    "plt.xticks(rotation=45)  # Rotate x-axis labels for better readability\n",
    "plt.show()"
   ]
  },
  {
   "cell_type": "markdown",
   "metadata": {},
   "source": [
    "The ratings across different years show variability, indicating that some years produced books with significantly higher average ratings than others. By examining the overall trend across the years, you might observe some fluctutaion which may be as aresult of change in publishing quality, reader preferences, or the impact of historical events on literature.\n",
    "The average ratings for more recent years indicates a potential resurgence in quality, or perhaps the influence of modern publishing trends and accessibility through various platforms.\n",
    "Based on the graph we can see presence of outliers, particularly in  future years from 2026-2050 that will need to be removed."
   ]
  },
  {
   "cell_type": "markdown",
   "metadata": {},
   "source": [
    "### E. User vs. Book Rating\n",
    "Helps to understand if certain users tend to give consistently higher while others may be more critical."
   ]
  },
  {
   "cell_type": "code",
   "execution_count": 113,
   "metadata": {},
   "outputs": [
    {
     "name": "stdout",
     "output_type": "stream",
     "text": [
      "Top 10 users:      UserID  Rating\n",
      "4        12    10.0\n",
      "25       70    10.0\n",
      "32       82    10.0\n",
      "48      125    10.0\n",
      "54      141    10.0\n",
      "103     326    10.0\n",
      "146     475    10.0\n",
      "156     499    10.0\n",
      "167     530    10.0\n",
      "212     713    10.0\n",
      "Bottom 10 users:    UserID  Rating\n",
      "0        2     0.0\n",
      "3       10     0.0\n",
      "9       20     0.0\n",
      "11      23     0.0\n",
      "14      36     0.0\n",
      "23      68     0.0\n",
      "28      77     0.0\n",
      "30      79     0.0\n",
      "40      95     0.0\n",
      "50     132     0.0\n"
     ]
    }
   ],
   "source": [
    "#Book rating by user\n",
    "avg_ratings_user = merged_df1.groupby('UserID')['Rating'].mean().reset_index()\n",
    "\n",
    "# Get the top 10 and bottom 10 users by average rating\n",
    "top_10_users = avg_ratings_user.nlargest(10, 'Rating')\n",
    "bottom_10_users = avg_ratings_user.nsmallest(10, 'Rating')\n",
    "print(f\"Top 10 users: {top_10_users}\")\n",
    "print(f\"Bottom 10 users:{bottom_10_users}\")"
   ]
  },
  {
   "cell_type": "code",
   "execution_count": 114,
   "metadata": {},
   "outputs": [
    {
     "data": {
      "image/png": "[encoded data removed]",
      "text/plain": [
       "<Figure size 1152x432 with 2 Axes>"
      ]
     },
     "metadata": {
      "needs_background": "light"
     },
     "output_type": "display_data"
    }
   ],
   "source": [
    "# Set up the figure and axes for side-by-side plots\n",
    "fig, axes = plt.subplots(1, 2, figsize=(16, 6))\n",
    "\n",
    "# Define a custom color palette\n",
    "colors = sns.color_palette(\"coolwarm\", 10)\n",
    "\n",
    "# Plot for Top 10 Users\n",
    "sns.barplot(x='UserID', y='Rating', data=top_10_users, ax=axes[0], palette=colors)\n",
    "axes[0].set_title('Top 10 Users by Average Book Rating')\n",
    "axes[0].set_xlabel('User ID')\n",
    "axes[0].set_ylabel('Average Book Rating')\n",
    "axes[0].tick_params(axis='x', rotation=45)\n",
    "\n",
    "# Plot for Bottom 10 Users\n",
    "sns.barplot(x='UserID', y='Rating', data=bottom_10_users, ax=axes[1], palette=colors)\n",
    "axes[1].set_title('Bottom 10 Users by Average Book Rating')\n",
    "axes[1].set_xlabel('User ID')\n",
    "axes[1].set_ylabel('Average Book Rating')\n",
    "axes[1].tick_params(axis='x', rotation=45)\n",
    "\n",
    "# Add labels to zero-rating bars\n",
    "for bar in axes[1].patches:\n",
    "    axes[1].annotate(\n",
    "        format(bar.get_height(), '.1f'),  # Add text as '0.0' for zero ratings\n",
    "        (bar.get_x() + bar.get_width() / 2, bar.get_height()),  # Position label in the middle\n",
    "        ha='center', va='center', size=10, xytext=(0, 8), textcoords='offset points'\n",
    "    )\n",
    "# Adjusting y-axis limits to ensure visibility \n",
    "axes[1].set_ylim(0, 1)\n",
    "\n",
    "# Adjust layout\n",
    "plt.tight_layout()\n",
    "plt.show()"
   ]
  },
  {
   "cell_type": "markdown",
   "metadata": {},
   "source": [
    "\n",
    "The top 10 users have an average book rating of 10.0 indicating that these users have only given perfect ratings to the books they have rated. Since all top users show the same maximum rating, it suggests that these users might have either a very favorable view of the books they rated, or they may have rated only a few select books that they felt deserved a perfect score which could point to a potential bias in their rating behavior.\n",
    "\n",
    "The bottom 10 users have an average book rating of 0.0. This indicates that these users have not given any ratings above zero, implying they may not have engaged with the books in a way that they felt warranted a rating.\n",
    "These users might not have found any books satisfactory enough to rate positively, suggesting dissatisfaction with the content or quality of books available to them. It's also possible that these users are not active readers or have not rated enough books to form a comprehensive view. This lack of ratings might negatively affect the overall average ratings for books in the system if these users account for a substantial number of ratings. \n",
    "\n",
    "The contrast between the top and bottom users highlights the variability in user engagement and satisfaction within the dataset. It suggests two extremes: highly engaged users with consistently positive feedback and users who do not engage meaningfully with the reading material.\n"
   ]
  },
  {
   "cell_type": "markdown",
   "metadata": {},
   "source": [
    "## Cleaning of Data\n",
    "For this section we will clean the dataset of any missing values, duplicates, and outliers."
   ]
  },
  {
   "cell_type": "code",
   "execution_count": 115,
   "metadata": {},
   "outputs": [
    {
     "data": {
      "text/plain": [
       "False"
      ]
     },
     "execution_count": 115,
     "metadata": {},
     "output_type": "execute_result"
    }
   ],
   "source": [
    "#Checking for duplicates\n",
    "merged_df1.duplicated().any()"
   ]
  },
  {
   "cell_type": "markdown",
   "metadata": {},
   "source": [
    "From the above our dataset has no duplicated values"
   ]
  },
  {
   "cell_type": "code",
   "execution_count": 116,
   "metadata": {},
   "outputs": [],
   "source": [
    "#Capping the age column to a reasonable range of 5 < x <100\n",
    "merged_df1['Age'] = merged_df1['Age'].apply(lambda x: 5 if x < 5 else (70 if x > 70 else x))\n"
   ]
  },
  {
   "cell_type": "code",
   "execution_count": 117,
   "metadata": {},
   "outputs": [],
   "source": [
    "#The 'Year-Of-Publication' column also had some outliers years exceeding the normal range that need to be removed. We will also convert the column into the right data type which is an interger column.\n",
    "#Filter out non-integer values in the Year-Of-Publication column\n",
    "merged_df1 = merged_df1[pd.to_numeric(merged_df1['Publication_Year'], errors='coerce').notnull()]\n",
    "\n",
    "#Convert the Year-Of-Publication column to integers\n",
    "merged_df1['Publication_Year'] = merged_df1['Publication_Year'].astype('int64')\n",
    "\n",
    "#Remove rows where Year-Of-Publication is 2023 or later\n",
    "merged_df1 = merged_df1[merged_df1['Publication_Year'] < 2024]"
   ]
  },
  {
   "cell_type": "code",
   "execution_count": 118,
   "metadata": {},
   "outputs": [
    {
     "data": {
      "text/plain": [
       "UserID                   0\n",
       "Rating                   0\n",
       "Age                 277815\n",
       "ISBN                     0\n",
       "Book_title               0\n",
       "Author                   1\n",
       "Publication_Year         0\n",
       "Publisher                2\n",
       "dtype: int64"
      ]
     },
     "execution_count": 118,
     "metadata": {},
     "output_type": "execute_result"
    }
   ],
   "source": [
    "# Check for missing values\n",
    "merged_df1.isnull().sum()"
   ]
  },
  {
   "cell_type": "code",
   "execution_count": 119,
   "metadata": {},
   "outputs": [
    {
     "data": {
      "text/plain": [
       "UserID               0.000000\n",
       "Rating               0.000000\n",
       "Age                 26.944130\n",
       "ISBN                 0.000000\n",
       "Book_title           0.000000\n",
       "Author               0.000097\n",
       "Publication_Year     0.000000\n",
       "Publisher            0.000194\n",
       "dtype: float64"
      ]
     },
     "execution_count": 119,
     "metadata": {},
     "output_type": "execute_result"
    }
   ],
   "source": [
    "#Percentage of missing values\n",
    "merged_df1.isnull().mean()*100"
   ]
  },
  {
   "cell_type": "code",
   "execution_count": 124,
   "metadata": {},
   "outputs": [
    {
     "data": {
      "text/plain": [
       "UserID               0.000000\n",
       "Rating               0.000000\n",
       "Age                 26.944209\n",
       "ISBN                 0.000000\n",
       "Book_title           0.000000\n",
       "Author               0.000000\n",
       "Publication_Year     0.000000\n",
       "Publisher            0.000000\n",
       "dtype: float64"
      ]
     },
     "execution_count": 124,
     "metadata": {},
     "output_type": "execute_result"
    }
   ],
   "source": [
    "# Drop rows with missing values in the two columns\n",
    "merged_df1 = merged_df1.dropna(subset=['Author', 'Publisher'])\n",
    "#Checking for remaining missing values\n",
    "merged_df1.isnull().mean()*100"
   ]
  },
  {
   "cell_type": "markdown",
   "metadata": {},
   "source": [
    "#### Replacing missing values\n",
    "From the above results: 'Age' column has a large number of null values as it has approximately 27% missing data.\n",
    " As this column is vital, dropping it might affect our analysis thus we replace the missing values with the median using SimpleImputer."
   ]
  },
  {
   "cell_type": "code",
   "execution_count": 125,
   "metadata": {},
   "outputs": [],
   "source": [
    "#filling missing in Age column with median\n",
    "imputer = SimpleImputer(strategy='median')\n",
    "merged_df1['Age'] = imputer.fit_transform(merged_df1[['Age']])"
   ]
  },
  {
   "cell_type": "code",
   "execution_count": 126,
   "metadata": {},
   "outputs": [
    {
     "data": {
      "text/plain": [
       "UserID              0\n",
       "Rating              0\n",
       "Age                 0\n",
       "ISBN                0\n",
       "Book_title          0\n",
       "Author              0\n",
       "Publication_Year    0\n",
       "Publisher           0\n",
       "dtype: int64"
      ]
     },
     "execution_count": 126,
     "metadata": {},
     "output_type": "execute_result"
    }
   ],
   "source": [
    "#Checking for any remaining missing values\n",
    "merged_df1.isnull().sum()"
   ]
  },
  {
   "cell_type": "markdown",
   "metadata": {},
   "source": [
    "#### Age Distribution Rechecking "
   ]
  },
  {
   "cell_type": "code",
   "execution_count": 127,
   "metadata": {},
   "outputs": [
    {
     "data": {
      "image/png": "[encoded data removed]",
      "text/plain": [
       "<Figure size 720x432 with 1 Axes>"
      ]
     },
     "metadata": {
      "needs_background": "light"
     },
     "output_type": "display_data"
    }
   ],
   "source": [
    "mean_age = merged_df1['Age'].mean()\n",
    "median_age = merged_df1['Age'].median()\n",
    "\n",
    "# Plot Distribution of User Age\n",
    "plt.figure(figsize=(10, 6))\n",
    "sns.histplot(merged_df1['Age'], bins=20, kde=True)\n",
    "plt.axvline(mean_age, color='red', linestyle='--', label=f'Mean Age: {mean_age:.2f}')\n",
    "plt.axvline(median_age, color='blue', linestyle='--', label=f'Median Age: {median_age:.2f}')\n",
    "plt.title('Distribution of User Age')\n",
    "plt.xlabel('Age')\n",
    "plt.legend()\n",
    "plt.show()"
   ]
  },
  {
   "cell_type": "markdown",
   "metadata": {},
   "source": [
    "There mean reduced slightly to 36.53 while the median remained the same at 35. \n",
    "The distribution is improved with outliers being removed."
   ]
  },
  {
   "cell_type": "markdown",
   "metadata": {},
   "source": [
    "## Feature Engineering\n",
    "From our dataset, a new column with age groups is created. the column helps to create a better understanding of book preference based on certain age groups."
   ]
  },
  {
   "cell_type": "code",
   "execution_count": 128,
   "metadata": {},
   "outputs": [
    {
     "data": {
      "text/html": [
       "<div>\n",
       "<style scoped>\n",
       "    .dataframe tbody tr th:only-of-type {\n",
       "        vertical-align: middle;\n",
       "    }\n",
       "\n",
       "    .dataframe tbody tr th {\n",
       "        vertical-align: top;\n",
       "    }\n",
       "\n",
       "    .dataframe thead th {\n",
       "        text-align: right;\n",
       "    }\n",
       "</style>\n",
       "<table border=\"1\" class=\"dataframe\">\n",
       "  <thead>\n",
       "    <tr style=\"text-align: right;\">\n",
       "      <th></th>\n",
       "      <th>UserID</th>\n",
       "      <th>Rating</th>\n",
       "      <th>Age</th>\n",
       "      <th>ISBN</th>\n",
       "      <th>Book_title</th>\n",
       "      <th>Author</th>\n",
       "      <th>Publication_Year</th>\n",
       "      <th>Publisher</th>\n",
       "      <th>Age_Group</th>\n",
       "    </tr>\n",
       "  </thead>\n",
       "  <tbody>\n",
       "    <tr>\n",
       "      <th>0</th>\n",
       "      <td>276725</td>\n",
       "      <td>0</td>\n",
       "      <td>35.0</td>\n",
       "      <td>034545104X</td>\n",
       "      <td>Flesh Tones: A Novel</td>\n",
       "      <td>M. J. Rose</td>\n",
       "      <td>2002</td>\n",
       "      <td>Ballantine Books</td>\n",
       "      <td>Adult</td>\n",
       "    </tr>\n",
       "    <tr>\n",
       "      <th>1</th>\n",
       "      <td>2313</td>\n",
       "      <td>5</td>\n",
       "      <td>23.0</td>\n",
       "      <td>034545104X</td>\n",
       "      <td>Flesh Tones: A Novel</td>\n",
       "      <td>M. J. Rose</td>\n",
       "      <td>2002</td>\n",
       "      <td>Ballantine Books</td>\n",
       "      <td>Young Adult</td>\n",
       "    </tr>\n",
       "    <tr>\n",
       "      <th>2</th>\n",
       "      <td>6543</td>\n",
       "      <td>0</td>\n",
       "      <td>34.0</td>\n",
       "      <td>034545104X</td>\n",
       "      <td>Flesh Tones: A Novel</td>\n",
       "      <td>M. J. Rose</td>\n",
       "      <td>2002</td>\n",
       "      <td>Ballantine Books</td>\n",
       "      <td>Young Adult</td>\n",
       "    </tr>\n",
       "    <tr>\n",
       "      <th>3</th>\n",
       "      <td>8680</td>\n",
       "      <td>5</td>\n",
       "      <td>5.0</td>\n",
       "      <td>034545104X</td>\n",
       "      <td>Flesh Tones: A Novel</td>\n",
       "      <td>M. J. Rose</td>\n",
       "      <td>2002</td>\n",
       "      <td>Ballantine Books</td>\n",
       "      <td>Child</td>\n",
       "    </tr>\n",
       "    <tr>\n",
       "      <th>4</th>\n",
       "      <td>10314</td>\n",
       "      <td>9</td>\n",
       "      <td>35.0</td>\n",
       "      <td>034545104X</td>\n",
       "      <td>Flesh Tones: A Novel</td>\n",
       "      <td>M. J. Rose</td>\n",
       "      <td>2002</td>\n",
       "      <td>Ballantine Books</td>\n",
       "      <td>Adult</td>\n",
       "    </tr>\n",
       "  </tbody>\n",
       "</table>\n",
       "</div>"
      ],
      "text/plain": [
       "   UserID  Rating   Age        ISBN            Book_title      Author  \\\n",
       "0  276725       0  35.0  034545104X  Flesh Tones: A Novel  M. J. Rose   \n",
       "1    2313       5  23.0  034545104X  Flesh Tones: A Novel  M. J. Rose   \n",
       "2    6543       0  34.0  034545104X  Flesh Tones: A Novel  M. J. Rose   \n",
       "3    8680       5   5.0  034545104X  Flesh Tones: A Novel  M. J. Rose   \n",
       "4   10314       9  35.0  034545104X  Flesh Tones: A Novel  M. J. Rose   \n",
       "\n",
       "   Publication_Year         Publisher    Age_Group  \n",
       "0              2002  Ballantine Books        Adult  \n",
       "1              2002  Ballantine Books  Young Adult  \n",
       "2              2002  Ballantine Books  Young Adult  \n",
       "3              2002  Ballantine Books        Child  \n",
       "4              2002  Ballantine Books        Adult  "
      ]
     },
     "execution_count": 128,
     "metadata": {},
     "output_type": "execute_result"
    }
   ],
   "source": [
    "#function for feature engineering\n",
    "def age_group(age):\n",
    "    if age < 18:\n",
    "        return 'Child'\n",
    "    elif age < 35:\n",
    "        return 'Young Adult'\n",
    "    elif age < 55:\n",
    "        return 'Adult'\n",
    "    else:\n",
    "        return 'Senior'\n",
    "\n",
    "# Apply the age_group function only on known ages\n",
    "merged_df1['Age_Group'] = merged_df1['Age'].apply(lambda x: age_group(x) if pd.notnull(x) else np.nan)\n",
    "merged_df1.head(5)"
   ]
  },
  {
   "cell_type": "code",
   "execution_count": 129,
   "metadata": {},
   "outputs": [
    {
     "data": {
      "text/plain": [
       "Adult          595053\n",
       "Young Adult    341169\n",
       "Senior          72530\n",
       "Child           22323\n",
       "Name: Age_Group, dtype: int64"
      ]
     },
     "execution_count": 129,
     "metadata": {},
     "output_type": "execute_result"
    }
   ],
   "source": [
    "#Count of each age group\n",
    "merged_df1['Age_Group'].value_counts()"
   ]
  },
  {
   "cell_type": "markdown",
   "metadata": {},
   "source": [
    "From the results above adults seem to be the majority with child ranking as the minority"
   ]
  },
  {
   "cell_type": "code",
   "execution_count": 130,
   "metadata": {},
   "outputs": [
    {
     "data": {
      "image/png": "[encoded data removed]",
      "text/plain": [
       "<Figure size 720x432 with 1 Axes>"
      ]
     },
     "metadata": {
      "needs_background": "light"
     },
     "output_type": "display_data"
    }
   ],
   "source": [
    "# Set the figure size\n",
    "plt.figure(figsize=(10, 6))\n",
    "\n",
    "# Create a count plot for Age Groups\n",
    "sns.countplot(x='Age_Group', data=merged_df1, order=merged_df1['Age_Group'].value_counts().index)\n",
    "\n",
    "# Set the title and labels\n",
    "plt.title('Distribution of Age Groups')\n",
    "plt.xlabel('Age Group')\n",
    "plt.ylabel('Count')\n",
    "\n",
    "# Display the plot\n",
    "plt.show()"
   ]
  },
  {
   "cell_type": "markdown",
   "metadata": {},
   "source": [
    "The plot, agrees with the above count that potrays the adult category as the majority. Young Adult group has a substantial representation. The smaller representation is of the Seniors and Children..These findings may suggest that marketing strategies should primarily focus on adults and young adults, as they represent the majority of your user base."
   ]
  },
  {
   "cell_type": "markdown",
   "metadata": {},
   "source": [
    "## MODELLING\n",
    "I utilized collaborative based filtering to build a recommendation system. "
   ]
  },
  {
   "cell_type": "markdown",
   "metadata": {},
   "source": [
    "### Collaborative Filtering\n",
    " We utlilize Singular Value Decomposition (SVD) an element of matrix factorization to perform collaborative filtering."
   ]
  },
  {
   "cell_type": "code",
   "execution_count": 132,
   "metadata": {},
   "outputs": [],
   "source": [
    "# Prepare data for Surprise\n",
    "#Loading from surprise library\n",
    "reader = Reader(rating_scale=(0, 10))\n",
    "data = Dataset.load_from_df(merged_df1[['UserID', 'ISBN', 'Rating']], reader)"
   ]
  },
  {
   "cell_type": "markdown",
   "metadata": {},
   "source": [
    "#### Hyperparameter Tuning\n",
    "GridSearchCV from the surprise library is employed to optimize hyperparameters."
   ]
  },
  {
   "cell_type": "code",
   "execution_count": 133,
   "metadata": {},
   "outputs": [
    {
     "name": "stdout",
     "output_type": "stream",
     "text": [
      "Best Parameters:  {'n_factors': 50, 'reg_pu': 0.2, 'reg_qi': 0.2}\n"
     ]
    }
   ],
   "source": [
    "# Define the parameter grid for tuning\n",
    "param_grid = {\n",
    "    'n_factors': [30, 50],\n",
    "    'reg_pu': [0.1, 0.2],\n",
    "    'reg_qi': [0.1, 0.2]\n",
    "}\n",
    "\n",
    "# Perform GridSearchCV\n",
    "grid_search = GridSearchCV(SVD, param_grid, measures=['rmse'], cv=2)\n",
    "grid_search.fit(data)\n",
    "\n",
    "# Get the best parameters\n",
    "best_params = grid_search.best_params['rmse']\n",
    "print(\"Best Parameters: \", best_params)"
   ]
  },
  {
   "cell_type": "markdown",
   "metadata": {},
   "source": [
    "50 latent factors gave the best results.\n",
    "Regularization values of 0.2 for both users and items performed best in reducing errors"
   ]
  },
  {
   "cell_type": "markdown",
   "metadata": {},
   "source": [
    "#### Model Training \n",
    "The analysis uses Singular Value Decomposition for collaborative filtering. It factorizes the user-item interaction matrix into lower-dimensional matrices which helps in capturing latent features that explain the user-book relationship.\n"
   ]
  },
  {
   "cell_type": "code",
   "execution_count": 134,
   "metadata": {},
   "outputs": [
    {
     "name": "stdout",
     "output_type": "stream",
     "text": [
      "RMSE: 3.4194\n",
      "MAE:  2.7450\n"
     ]
    },
    {
     "data": {
      "text/plain": [
       "2.7449705931988215"
      ]
     },
     "execution_count": 134,
     "metadata": {},
     "output_type": "execute_result"
    }
   ],
   "source": [
    "# Model Training: Using SVD for collaborative filtering\n",
    "#Set best parameters\n",
    "best_model = SVD(n_factors=best_params['n_factors'], \n",
    "                  reg_pu=best_params['reg_pu'], \n",
    "                  reg_qi=best_params['reg_qi'])\n",
    "\n",
    "# Fit the model\n",
    "trainset, testset = train_test_split(data, test_size=0.2, random_state=42)\n",
    "best_model.fit(trainset)\n",
    "\n",
    "# Evaluate on the test set\n",
    "predictions = best_model.test(testset)\n",
    "\n",
    "# Extract true and predicted ratings\n",
    "true_ratings = [pred.r_ui for pred in predictions]  # Actual ratings\n",
    "predicted_ratings = [pred.est for pred in predictions]  # Predicted ratings\n",
    "\n",
    "# Evaluate model performance on the test set\n",
    "accuracy.rmse(predictions)  # Root Mean Square Error\n",
    "accuracy.mae(predictions)   # Mean Absolute Error"
   ]
  },
  {
   "cell_type": "markdown",
   "metadata": {},
   "source": [
    "A lower RMSE and MAE indicates better performance\n",
    "Predicted rating differ from the true ratings by approximately 3.42 units based on the root mean square area a (RMSE) \n",
    "An MAE of 2.7450 indicates that on average, \n",
    "the predicted ratings differ from the true ratings by about 2.75 units."
   ]
  },
  {
   "cell_type": "markdown",
   "metadata": {},
   "source": [
    "## Model Evaluation\n",
    "For this model's evaluation I employed the accuracy metrics mainly foucusing on **precision score**.\n",
    "\n",
    "\n",
    "Check for class imbalance \n"
   ]
  },
  {
   "cell_type": "code",
   "execution_count": 142,
   "metadata": {},
   "outputs": [],
   "source": [
    "#Convert Ratings to Binary (1 if relevant, 0 if not)\n",
    "# Define the threshold for relevance\n",
    "threshold = 8\n",
    "\n",
    "binary_true = [1 if rating >= threshold else 0 for rating in true_ratings]\n",
    "binary_predicted = [1 if rating >= threshold else 0 for rating in predicted_ratings]"
   ]
  },
  {
   "cell_type": "code",
   "execution_count": 143,
   "metadata": {},
   "outputs": [
    {
     "name": "stdout",
     "output_type": "stream",
     "text": [
      "Class Distribution:\n",
      "0    161623\n",
      "1     44592\n",
      "dtype: int64\n"
     ]
    }
   ],
   "source": [
    "#Check the distribution of classes\n",
    "class_distribution = pd.Series(binary_true).value_counts()\n",
    "\n",
    "# Display the distribution\n",
    "print(\"Class Distribution:\")\n",
    "print(class_distribution)"
   ]
  },
  {
   "cell_type": "code",
   "execution_count": 144,
   "metadata": {},
   "outputs": [
    {
     "data": {
      "image/png": "[encoded data removed]",
      "text/plain": [
       "<Figure size 576x432 with 1 Axes>"
      ]
     },
     "metadata": {
      "needs_background": "light"
     },
     "output_type": "display_data"
    }
   ],
   "source": [
    "#Check distribution of classes for class imbalance\n",
    "\n",
    "# Create a count plot\n",
    "plt.figure(figsize=(8, 6))\n",
    "sns.countplot(x=binary_true, palette='Set2')\n",
    "\n",
    "# Labeling the plot\n",
    "plt.xlabel('Class (1 = Relevant, 0 = Not Relevant)')\n",
    "plt.ylabel('Count')\n",
    "plt.title('Distribution of Relevant and Non-Relevant Ratings')\n",
    "plt.xticks(ticks=[0, 1], labels=['Not Relevant (0)', 'Relevant (1)'])\n",
    "plt.show()"
   ]
  },
  {
   "cell_type": "markdown",
   "metadata": {},
   "source": [
    "\n",
    "There is a class imbalance as 'Non Relevant' class has a larger count compared to 'Relevant' class.\n",
    "\n",
    "Handle the class imbalance by applying Random under sampling wherethe majority class is reduced thus balancing the dataset to avoid tampering with integrity of the data."
   ]
  },
  {
   "cell_type": "code",
   "execution_count": 145,
   "metadata": {},
   "outputs": [
    {
     "name": "stdout",
     "output_type": "stream",
     "text": [
      "New Class Distribution after Under-Sampling:\n",
      "1    44592\n",
      "0    44592\n",
      "Name: True, dtype: int64\n"
     ]
    }
   ],
   "source": [
    "# Initialize the under-sampler\n",
    "under_sampler = RandomUnderSampler(random_state=42)\n",
    "\n",
    "# Create a DataFrame from binary ratings for resampling\n",
    "data = pd.DataFrame({'True': binary_true, 'Predicted': binary_predicted})\n",
    "\n",
    "# Apply under-sampling\n",
    "X_under, y_under = under_sampler.fit_resample(data[['Predicted']], data['True'])\n",
    "\n",
    "# Check new class distribution\n",
    "new_class_distribution = pd.Series(y_under).value_counts()\n",
    "print(\"New Class Distribution after Under-Sampling:\")\n",
    "print(new_class_distribution)"
   ]
  },
  {
   "cell_type": "code",
   "execution_count": 146,
   "metadata": {},
   "outputs": [
    {
     "name": "stdout",
     "output_type": "stream",
     "text": [
      "Precision: 0.8163\n",
      "Recall: 0.0497\n",
      "F1-Score: 0.0938\n",
      "Accuracy: 0.7921\n"
     ]
    }
   ],
   "source": [
    "##### apply the evaluation metrics to evaluate the performance of the model.\n",
    "#Calculate Precision, Recall, and F1-Score\n",
    "precision = precision_score(binary_true, binary_predicted)\n",
    "recall = recall_score(binary_true, binary_predicted)\n",
    "f1 = f1_score(binary_true, binary_predicted)\n",
    "accuracy = accuracy_score(binary_true, binary_predicted)\n",
    "\n",
    "# Print the evaluation metrics\n",
    "print(f\"Precision: {precision:.4f}\")\n",
    "print(f\"Recall: {recall:.4f}\")\n",
    "print(f\"F1-Score: {f1:.4f}\")\n",
    "print(f\"Accuracy: {accuracy:.4f}\")"
   ]
  },
  {
   "cell_type": "markdown",
   "metadata": {},
   "source": [
    "#### Elaboration\n",
    "Precision of 81% measures the proportion of relevant recommendations that were actually correct that is how many of the recommended books were truly relevant. It means that about 81.63% of the books recommended by your model were relevant (rated above the threshold of 8). This indicates that when our model recommends a book, there is a high chance that the recommendation is indeed a good fit for the user.\n",
    "\n",
    "An accuracy score of 0.7921 indicates that the model is correct about 79.21% of the time. \n",
    "\n",
    "\n",
    "An F1-score of 0.0938 suggests that while the model is good at recommending relevant items, it fails to recommend most of the relevant items available.\n",
    "\n",
    "A recall score of 0.0497  suggests that the model only identified 4.97% of all the relevant books that were actually present meaning many relevant books are being missed.\n",
    "\n",
    "\n"
   ]
  },
  {
   "cell_type": "markdown",
   "metadata": {},
   "source": [
    "Based on the results above, our model meets our goal of having a precision score above 82% as it had a score of  0.8163\n",
    "showing that about 81.63% of the books recommended by the model were relevant."
   ]
  }
 ],
 "metadata": {
  "kernelspec": {
   "display_name": "learn-env",
   "language": "python",
   "name": "python3"
  },
  "language_info": {
   "codemirror_mode": {
    "name": "ipython",
    "version": 3
   },
   "file_extension": ".py",
   "mimetype": "text/x-python",
   "name": "python",
   "nbconvert_exporter": "python",
   "pygments_lexer": "ipython3",
   "version": "3.8.5"
  }
 },
 "nbformat": 4,
 "nbformat_minor": 2
}
